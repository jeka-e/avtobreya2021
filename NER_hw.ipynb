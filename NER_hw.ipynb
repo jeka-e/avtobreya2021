{
  "nbformat": 4,
  "nbformat_minor": 0,
  "metadata": {
    "colab": {
      "name": "NER_hw.ipynb",
      "provenance": [],
      "collapsed_sections": [
        "5yKsJ0Poz26n",
        "uQ6Df_cD3dma"
      ]
    },
    "kernelspec": {
      "name": "python3",
      "display_name": "Python 3"
    },
    "language_info": {
      "name": "python"
    }
  },
  "cells": [
    {
      "cell_type": "code",
      "metadata": {
        "id": "Dfs_4SRaFs5r"
      },
      "source": [
        "import os\n",
        "import json\n",
        "import gzip\n",
        "import pandas\n",
        "from tqdm import tqdm\n",
        "\n",
        "import spacy\n",
        "from spacy.matcher import Matcher\n"
      ],
      "execution_count": 1,
      "outputs": []
    },
    {
      "cell_type": "markdown",
      "metadata": {
        "id": "J6XGXuDoNGJw"
      },
      "source": [
        "##Данные"
      ]
    },
    {
      "cell_type": "code",
      "metadata": {
        "colab": {
          "base_uri": "https://localhost:8080/"
        },
        "id": "lARycZZ6apTy",
        "outputId": "a1a3444e-b10d-41f6-de9d-8e16738cd8ce"
      },
      "source": [
        "!wget http://snap.stanford.edu/data/amazon/productGraph/categoryFiles/reviews_Pet_Supplies_5.json.gz"
      ],
      "execution_count": 2,
      "outputs": [
        {
          "output_type": "stream",
          "name": "stdout",
          "text": [
            "--2021-12-03 15:13:35--  http://snap.stanford.edu/data/amazon/productGraph/categoryFiles/reviews_Pet_Supplies_5.json.gz\n",
            "Resolving snap.stanford.edu (snap.stanford.edu)... 171.64.75.80\n",
            "Connecting to snap.stanford.edu (snap.stanford.edu)|171.64.75.80|:80... connected.\n",
            "HTTP request sent, awaiting response... 200 OK\n",
            "Length: 36119369 (34M) [application/x-gzip]\n",
            "Saving to: ‘reviews_Pet_Supplies_5.json.gz’\n",
            "\n",
            "reviews_Pet_Supplie 100%[===================>]  34.45M  18.9MB/s    in 1.8s    \n",
            "\n",
            "2021-12-03 15:13:37 (18.9 MB/s) - ‘reviews_Pet_Supplies_5.json.gz’ saved [36119369/36119369]\n",
            "\n"
          ]
        }
      ]
    },
    {
      "cell_type": "code",
      "metadata": {
        "id": "BMrWeD_yJxYq"
      },
      "source": [
        "data = []\n",
        "with gzip.open('reviews_Pet_Supplies_5.json.gz') as f:\n",
        "    for l in f:\n",
        "        data.append(json.loads(l.strip())['reviewText'])"
      ],
      "execution_count": 3,
      "outputs": []
    },
    {
      "cell_type": "code",
      "metadata": {
        "colab": {
          "base_uri": "https://localhost:8080/",
          "height": 105
        },
        "id": "DO4qtnzba8tA",
        "outputId": "96e36b2c-3811-400f-cb69-142a64894a53"
      },
      "source": [
        "data[1679]"
      ],
      "execution_count": 4,
      "outputs": [
        {
          "output_type": "execute_result",
          "data": {
            "application/vnd.google.colaboratory.intrinsic+json": {
              "type": "string"
            },
            "text/plain": [
              "\"I've found that almost all cats strongly prefer to drink running water as opposed to still water. Cat eyes are attracted to motion. My cats drink much more often from a fountain than a water dish which makes me feel better about their health. Cats love this thing, the only cons are from the human maintenance side of things.Cons: A water fountain is more work than filling up a dish. You must plug it in, turn it on, clean the pump, replace the filter, and refill the resevoir often. This does get annoying but is not a problem unqiue to this fountain, and to me it's definitely worth it for my cats.The fountain is pleasant looking, a perfect size, and very quiet.\""
            ]
          },
          "metadata": {},
          "execution_count": 4
        }
      ]
    },
    {
      "cell_type": "markdown",
      "metadata": {
        "id": "3ucB5RMLNK_r"
      },
      "source": [
        "# Способы\n"
      ]
    },
    {
      "cell_type": "markdown",
      "metadata": {
        "id": "5yKsJ0Poz26n"
      },
      "source": [
        "##1. Использовать предобученную модель\n"
      ]
    },
    {
      "cell_type": "markdown",
      "metadata": {
        "id": "Dva8kYOY0hLE"
      },
      "source": [
        "Например, диппавловских бертов. В списке возможных тэгов есть PRODUCT, то есть упоминание товара, что похоже на то, что нам нужно в этой задаче. Для каких-то из их бертов нужны данные в формате CoNLL, но можно найти и модели, не требующие перевода в другой формат. \n",
        "\n",
        "Сложно сказать по плюсам и минусам, так как я не понимаю, как работать с этими диппавловскими конфигами (я правда очень долго пыталсь разобраться), поэтому запустить модель не могу. Но можно предположить, что так как они размечают всю последовательность в BIO-формате, то это займет сравнительно больше времени, чем другие методы. Однако качество почти наверняка будет выше."
      ]
    },
    {
      "cell_type": "markdown",
      "metadata": {
        "id": "uQ6Df_cD3dma"
      },
      "source": [
        "## 2. Очень тупо\n"
      ]
    },
    {
      "cell_type": "markdown",
      "metadata": {
        "id": "vbrU9ra43w-y"
      },
      "source": [
        "Но почему-то есть ощущение, что подействует относительно неплохо, особенно если мы хотим достать не просто упоминания, а именно брэнды:\n",
        "- выделим все не первые в предложении слова с заглавной буквы, можно так же сделать POS фильтрацию;\n",
        "- выберем те упоминания, которые встречаются не единожды.\n",
        "\n",
        "Кажется, в таком случае вполне велика вероятность, что мы достанем именно бренды. Другие сущности с большой буквы - имена или города - едва ли встретятся в отзывах. Однако, например, в отзывах на товары моей категории (товары для питомцев) могут встречаться имена животных, поэтому нужен фильтр на по частотности.\n",
        "\n",
        "Плюсы - очень легко и быстро реализовать, почти наверняка все, что останется, будут названиями.\n",
        "\n",
        "Минусы - можем много чего не достать, например, если в названии несколько слов, а с большой буквы записано только первое; также мы будем доставать только конкретные название, а не в принципе все упоминания товара (не особо поняла, что в этой домашке будетт предпочтительнее)."
      ]
    },
    {
      "cell_type": "markdown",
      "metadata": {
        "id": "925Btvd04lHF"
      },
      "source": [
        "## 3. По шаблонам"
      ]
    },
    {
      "cell_type": "markdown",
      "metadata": {
        "id": "CVXL8VE6bSFf"
      },
      "source": [
        "Я посмотрела очень много примеров отзывов и выделила/придумала такие шаблоны: \n",
        "- buy/purchase/get/use/try the/this ____\n",
        "- this/these is ADJ (great/excellent/first/second/third) ______\n",
        "\n",
        "В данном случае очень сложно придумать какой-то определенный шаблон для конкретного товара, так как товаров очень много и очень сложно составить хоть какой-то их список (товары встречаются от зубной пасты для домашних питомцев до питьевых фонтанчиков и развлекающих видео с птичками). Поэтому шаблоны достаточно размытые, и я ожидаю, что мусора будет много, да и многое мы не выделим. Но хоть что-то.\n",
        "\n",
        "Достанем сущности, которые встречаются с такими шаблонами. Так как yargy для русского языка, то воспользуемся spaCy Matcher для английского.\n",
        "\n",
        "С прилагательными во втором шаблоне есть некоторая проблема - непонятно, относится ли оно к названию или же это просто атрибут. Я сохраняла удаляла такие в выделенных сущностях.\n"
      ]
    },
    {
      "cell_type": "code",
      "metadata": {
        "id": "acS9VK4jwztp"
      },
      "source": [
        "nlp = spacy.load(\"en_core_web_sm\")\n",
        "matcher = Matcher(nlp.vocab)\n",
        "\n",
        "pattern_1 = [{'LEMMA': {\"IN\": [\"purchase\", \"buy\", 'try', 'use']}},\n",
        "             {'LEMMA': {'IN': ['the', 'this']}},\n",
        "             {\"POS\": \"ADJ\", \"OP\": \"*\"},\n",
        "             {'POS': {\"IN\": [\"PROPN\", \"NOUN\"]}, 'OP': '+'}]\n",
        "matcher.add(\"verb\", None, pattern_1)\n",
        "\n",
        "pattern_2 = [{'LOWER': {'IN': ['this', 'these']}},\n",
        "              {'LEMMA': 'be'}, \n",
        "              {'LOWER': 'a', \"OP\": \"?\"},\n",
        "              {'POS': {\"IN\": [\"NUM\", 'PRON', 'DET']}, 'OP': '*'},\n",
        "              {'LEMMA': {\"IN\": [\"great\", 'excellent', 'first', 'second', 'third', 'perfect']}, 'OP': '+'},\n",
        "              {'POS': {\"IN\": [\"PROPN\", \"NOUN\"]}, 'OP': '+'}]\n",
        "matcher.add(\"this_is\", None, pattern_2)\n"
      ],
      "execution_count": 5,
      "outputs": []
    },
    {
      "cell_type": "code",
      "metadata": {
        "id": "zXqMt9cIXnbt"
      },
      "source": [
        "matcher_matcher = Matcher(nlp.vocab)\n",
        "\n",
        "clear_pattern = [{'POS': {\"IN\": [\"PROPN\", \"NOUN\"]}, 'OP': '+'}]\n",
        "      \n",
        "matcher_matcher.add('clear_pattern', None, clear_pattern)\n",
        "    "
      ],
      "execution_count": 6,
      "outputs": []
    },
    {
      "cell_type": "code",
      "metadata": {
        "colab": {
          "base_uri": "https://localhost:8080/"
        },
        "id": "CGIk7XFY3G5F",
        "outputId": "63d73475-d6a4-4210-fad1-cff662dab08e"
      },
      "source": [
        "match_ids = {}\n",
        "clear_matches = []\n",
        "\n",
        "for review in tqdm(data[:10000]):\n",
        "    doc = nlp(review)\n",
        "    matches = matcher(doc)\n",
        "    spans = [doc[start:end] for _, start, end in matches]\n",
        "    for span in spacy.util.filter_spans(spans):\n",
        "        match = nlp(str(span))\n",
        "        match_match = matcher_matcher(match)\n",
        "        spans_spans = [match[start:end] for _, start, end in match_match]\n",
        "        for span_span in spacy.util.filter_spans(spans_spans):\n",
        "            clear_matches.append(span_span)\n",
        "\n",
        "\n"
      ],
      "execution_count": 7,
      "outputs": [
        {
          "output_type": "stream",
          "name": "stderr",
          "text": [
            "100%|██████████| 10000/10000 [03:50<00:00, 43.44it/s]\n"
          ]
        }
      ]
    },
    {
      "cell_type": "code",
      "metadata": {
        "id": "tjRB1zNr6fyB"
      },
      "source": [
        "clear_matches = [str(match) for match in clear_matches]"
      ],
      "execution_count": 8,
      "outputs": []
    },
    {
      "cell_type": "markdown",
      "metadata": {
        "id": "VUGqgrCi7Xuw"
      },
      "source": [
        "Отфильтруем: самые частотные, потому что это мусор -уберем все, что встречается чаще 6 раз"
      ]
    },
    {
      "cell_type": "code",
      "metadata": {
        "id": "ab7tIpOR6WP7"
      },
      "source": [
        "import collections"
      ],
      "execution_count": 9,
      "outputs": []
    },
    {
      "cell_type": "code",
      "metadata": {
        "id": "6_-T91lAYxs_"
      },
      "source": [
        "counter=collections.Counter(clear_matches)\n",
        "counts={}\n",
        "for k, v in counter.items():\n",
        "    counts.setdefault(v, []).append(k)\n",
        "\n",
        "tol=6   \n",
        "a = {k:v for k,v in counter.items() if v<tol}"
      ],
      "execution_count": 10,
      "outputs": []
    },
    {
      "cell_type": "code",
      "metadata": {
        "colab": {
          "base_uri": "https://localhost:8080/"
        },
        "id": "rO84m824H5WS",
        "outputId": "4d7f3bc9-28a7-4b89-e333-746a7f8df22a"
      },
      "source": [
        "a"
      ],
      "execution_count": 11,
      "outputs": [
        {
          "output_type": "execute_result",
          "data": {
            "text/plain": [
              "{'1L product': 1,\n",
              " '1L size': 1,\n",
              " '640z': 1,\n",
              " ':)': 1,\n",
              " 'A': 1,\n",
              " 'AC50': 2,\n",
              " 'AC70 filter': 1,\n",
              " 'AKC brand': 1,\n",
              " 'API': 1,\n",
              " 'API Filstar XP': 1,\n",
              " 'API Master kit': 1,\n",
              " 'API strips': 1,\n",
              " 'API test': 1,\n",
              " 'API test kits': 1,\n",
              " 'Advantage': 2,\n",
              " 'Airtight Food Container': 1,\n",
              " 'Ammonia': 1,\n",
              " 'Andis': 1,\n",
              " 'AquaClear filters': 1,\n",
              " 'AquaSafe': 1,\n",
              " 'Aquaclear': 3,\n",
              " 'Aquaclear unit': 1,\n",
              " 'BISSELL': 1,\n",
              " 'BOUGHT': 1,\n",
              " 'Bark Free': 1,\n",
              " 'Beef': 1,\n",
              " 'Big Chews': 2,\n",
              " 'Bio': 1,\n",
              " 'Bissell Pet Stain': 1,\n",
              " 'Bissell Pre': 1,\n",
              " 'Bissell Spot': 1,\n",
              " 'Black Medium': 1,\n",
              " 'Blueberry': 1,\n",
              " 'C3': 1,\n",
              " 'CET paste': 1,\n",
              " 'Canidae ALS': 1,\n",
              " 'Carbon': 1,\n",
              " 'Carefresh Natural': 1,\n",
              " 'Cat Charmer': 1,\n",
              " 'Cat Tent': 1,\n",
              " 'Chicken Zuke': 1,\n",
              " 'Chuck': 2,\n",
              " 'Chuckit': 4,\n",
              " 'Chuckit Mega ball': 1,\n",
              " 'Chuckit Ultra Balls': 1,\n",
              " 'Chuckit medium Ultra Balls': 1,\n",
              " 'Chuckit thrower': 1,\n",
              " 'DIY filter media': 1,\n",
              " 'DRY': 1,\n",
              " 'Dawn': 2,\n",
              " 'Dino': 1,\n",
              " 'EI': 1,\n",
              " 'Excel': 1,\n",
              " 'Extreme Carpet Shampoo': 1,\n",
              " 'Fetch balls': 1,\n",
              " 'Flow': 1,\n",
              " 'Fluval C4': 1,\n",
              " 'Fluval Carbon': 1,\n",
              " 'Frontline': 2,\n",
              " 'Gel form': 1,\n",
              " 'Greenie pill pockets': 1,\n",
              " 'GripSoft': 1,\n",
              " 'Grizzly Salmon oil': 1,\n",
              " 'HOB filter': 1,\n",
              " 'HOT magnum': 1,\n",
              " 'Hagen Aqua': 1,\n",
              " 'Halo beef treats': 1,\n",
              " 'Hikari': 1,\n",
              " 'IRIS': 1,\n",
              " 'IRIS Airtight Pet Food Storage Container': 1,\n",
              " 'JONNY CAT Jumbo Litter Box Drawstring Liners': 1,\n",
              " 'Jumbo': 1,\n",
              " 'Jumbo drinking fountain': 1,\n",
              " 'KH': 1,\n",
              " 'KONG products': 1,\n",
              " 'KONG rubber slicker brush': 1,\n",
              " 'Kitty': 1,\n",
              " 'Kitty Tube': 1,\n",
              " 'Kong': 2,\n",
              " 'Kong Goodie Bone': 1,\n",
              " 'Kong goodie bone': 1,\n",
              " 'Kong version': 1,\n",
              " 'Kwik': 1,\n",
              " 'LED light bar': 1,\n",
              " 'LG': 1,\n",
              " 'LM900': 2,\n",
              " 'LM920': 1,\n",
              " 'Large Ball': 1,\n",
              " 'Launcher': 1,\n",
              " 'LeBistro': 1,\n",
              " 'Lentek': 1,\n",
              " 'Litter Maid': 1,\n",
              " 'Litter Pearls': 1,\n",
              " 'LitterMaid': 4,\n",
              " 'LitterMaid litter box': 1,\n",
              " 'Littermaid': 2,\n",
              " 'Littermaid LM900 model': 1,\n",
              " 'Littermaid box': 1,\n",
              " 'Little City Dogs products': 1,\n",
              " 'Magnum HOT': 1,\n",
              " 'Marina Easy Clean Gravel': 1,\n",
              " 'Marineland Biowheel filters': 1,\n",
              " 'Marineland Black Diamond Premium Activated Carbon': 1,\n",
              " 'Marineland Emporer filter': 1,\n",
              " 'Miracle Coat Foaming Shampoo': 1,\n",
              " 'Model': 1,\n",
              " 'Mr': 1,\n",
              " 'NSPC&F': 1,\n",
              " 'New Life Spectrum brand': 1,\n",
              " 'Nupro Gold': 1,\n",
              " 'Nutri': 1,\n",
              " 'Nutrition shrimp pellets': 1,\n",
              " 'Nyla': 1,\n",
              " 'Nylabone': 2,\n",
              " 'Nylabone dinosaur': 1,\n",
              " 'Omega Paw Self': 1,\n",
              " 'PPS Pro fertilizer system': 1,\n",
              " 'PPS Pro method': 1,\n",
              " 'PPS Pro system': 1,\n",
              " 'PRODUCT': 3,\n",
              " 'Peach': 1,\n",
              " 'Pedagree Dentastix': 1,\n",
              " 'Penguin': 1,\n",
              " 'Penn Plax bubble wand': 1,\n",
              " 'Pet Mate water': 1,\n",
              " 'Petmate Deluxe Fresh': 1,\n",
              " 'Petmate Deluxe model': 1,\n",
              " 'Petmate Fresh Flow water': 1,\n",
              " 'Petmate Pet Fountain': 1,\n",
              " 'Preventic Collar': 1,\n",
              " 'Probiotics': 1,\n",
              " 'Proplan': 1,\n",
              " 'Purigen': 3,\n",
              " 'Purina': 3,\n",
              " 'Purina Chicken': 1,\n",
              " 'Purina Pro Plan': 1,\n",
              " 'Python': 3,\n",
              " 'Python Maintenance System': 1,\n",
              " 'QPet': 1,\n",
              " 'Quick Filter': 1,\n",
              " 'Redbarn': 1,\n",
              " 'Redbarn Food Rolls': 1,\n",
              " 'Rep': 1,\n",
              " 'Rid': 1,\n",
              " 'SUBSTRATE': 1,\n",
              " 'Salmon Oil': 1,\n",
              " 'Salmon oil': 1,\n",
              " 'ScatMat': 1,\n",
              " 'Science Diet Medium Biscuit Treats': 1,\n",
              " 'Scoop Free': 1,\n",
              " 'Seachem Purigen': 1,\n",
              " 'Seachem product': 1,\n",
              " 'Seneye monitoring system': 1,\n",
              " 'Sentry HC Petromalt Malt': 1,\n",
              " 'Shampoo': 1,\n",
              " 'Skin': 1,\n",
              " 'Snuggle Safes': 1,\n",
              " 'SnuggleSafe': 1,\n",
              " 'SnuggleSafe Microwave Heatpad': 1,\n",
              " 'Spring': 1,\n",
              " 'Stegosaurus': 1,\n",
              " 'Stress coat': 1,\n",
              " 'Sunkist Orange': 1,\n",
              " 'TIME': 1,\n",
              " 'Tape Worm Tabs': 1,\n",
              " 'Tetra Whisper': 1,\n",
              " 'Tetra Whisper Air Pump': 1,\n",
              " 'Tetra Whisper PF10': 1,\n",
              " 'TetraMin brand fish food': 1,\n",
              " 'Trilogy': 1,\n",
              " 'USE': 1,\n",
              " 'UV Mercury Lamp': 1,\n",
              " 'Universal Adapter': 1,\n",
              " 'Vaseline trick': 1,\n",
              " 'Vet': 1,\n",
              " 'Vetri': 1,\n",
              " 'Vets': 1,\n",
              " 'Vibrance formula': 1,\n",
              " 'Vortex': 1,\n",
              " 'Whisper filters': 1,\n",
              " 'XP3': 1,\n",
              " 'Zoo Med Reptile Lamp': 1,\n",
              " 'Zyflamend Night Time': 1,\n",
              " 'accessory': 1,\n",
              " 'action': 1,\n",
              " 'adapter': 1,\n",
              " 'addition': 1,\n",
              " 'advertising': 1,\n",
              " 'air adjuster valve': 1,\n",
              " 'air line clips': 1,\n",
              " 'air pump': 3,\n",
              " 'algae cleaner': 1,\n",
              " 'algae wafer': 1,\n",
              " 'algae wafers': 1,\n",
              " 'alkaline buffer': 1,\n",
              " 'alternative': 1,\n",
              " 'ammonia part': 1,\n",
              " 'ammonia test kit': 1,\n",
              " 'amount': 1,\n",
              " 'answer': 1,\n",
              " 'aqua Clear': 1,\n",
              " 'aquaclear': 1,\n",
              " 'assembly': 1,\n",
              " 'attachment': 2,\n",
              " 'attempt': 1,\n",
              " 'auto': 1,\n",
              " 'backup': 1,\n",
              " 'baffles': 1,\n",
              " 'bag': 5,\n",
              " 'bag inserts': 1,\n",
              " 'bags': 3,\n",
              " 'ball': 4,\n",
              " 'ball throwers': 1,\n",
              " 'bargain': 1,\n",
              " 'bathroom': 4,\n",
              " 'bear': 1,\n",
              " 'beast': 1,\n",
              " 'bed': 3,\n",
              " 'bedding': 1,\n",
              " 'beef Sojos': 1,\n",
              " 'beef toothpaste version': 1,\n",
              " 'bio': 1,\n",
              " 'bio wheels': 1,\n",
              " 'blade wash': 2,\n",
              " 'blend mixture': 1,\n",
              " 'bone': 5,\n",
              " 'book': 1,\n",
              " 'booster': 1,\n",
              " 'bottles': 2,\n",
              " 'bottom': 2,\n",
              " 'bowl': 1,\n",
              " 'brake': 1,\n",
              " 'brand airline': 1,\n",
              " 'brand alot': 1,\n",
              " 'brass adapter': 1,\n",
              " 'breath paste': 1,\n",
              " 'bucket': 1,\n",
              " 'bucket system': 1,\n",
              " 'buffer': 1,\n",
              " 'bulb': 3,\n",
              " 'buy': 3,\n",
              " 'cage': 3,\n",
              " 'cage kit': 1,\n",
              " 'canister': 1,\n",
              " 'canister filter': 2,\n",
              " 'canopy': 2,\n",
              " 'cans': 1,\n",
              " 'cap': 1,\n",
              " 'capsules': 1,\n",
              " 'carbon': 4,\n",
              " 'carbon bags': 1,\n",
              " 'card': 1,\n",
              " 'carefresh': 1,\n",
              " 'carpet': 1,\n",
              " 'cartridges': 1,\n",
              " 'cat': 1,\n",
              " 'cat food': 3,\n",
              " 'cat version': 2,\n",
              " 'catnip': 4,\n",
              " 'charcoal': 1,\n",
              " 'chew': 2,\n",
              " 'chew bone': 1,\n",
              " 'chew toy': 4,\n",
              " 'chicken flavor': 1,\n",
              " 'chicken food': 1,\n",
              " 'chuckit': 3,\n",
              " 'chute': 1,\n",
              " 'circle': 1,\n",
              " 'citronella collar': 1,\n",
              " 'clamp lamp': 1,\n",
              " 'clarity': 1,\n",
              " 'clay litters': 1,\n",
              " 'cleaning supply': 1,\n",
              " 'cleaning system': 1,\n",
              " 'closure': 1,\n",
              " 'color chart': 1,\n",
              " 'comb.and': 1,\n",
              " 'combo': 1,\n",
              " 'company': 1,\n",
              " 'conditioner': 1,\n",
              " 'containers': 4,\n",
              " 'containment area': 1,\n",
              " 'contraption': 1,\n",
              " 'coupler': 1,\n",
              " 'cover': 1,\n",
              " 'covers': 1,\n",
              " 'cr-2032 watch batteries': 1,\n",
              " 'craft item': 1,\n",
              " 'crystal litter': 1,\n",
              " 'cubes': 1,\n",
              " 'cup': 1,\n",
              " 'cure': 1,\n",
              " 'cylinder': 1,\n",
              " 'dachshund': 1,\n",
              " 'daily': 2,\n",
              " 'deal': 3,\n",
              " 'deal!The': 1,\n",
              " 'device': 3,\n",
              " 'dewormer': 1,\n",
              " 'diameter': 1,\n",
              " 'diffusers': 1,\n",
              " 'dilution instructions': 1,\n",
              " 'dimmer': 1,\n",
              " 'dinosaur': 1,\n",
              " 'dip': 1,\n",
              " 'dish': 1,\n",
              " 'disk': 2,\n",
              " 'dog': 3,\n",
              " 'dog Advantage': 1,\n",
              " 'dog food': 2,\n",
              " 'dog size': 1,\n",
              " 'dog toy': 2,\n",
              " 'dog treat': 1,\n",
              " 'dog version': 1,\n",
              " 'doggy door': 1,\n",
              " 'door': 1,\n",
              " 'drinkwell fountain': 1,\n",
              " 'drops': 2,\n",
              " 'dura': 1,\n",
              " 'ear': 1,\n",
              " 'earthbath': 1,\n",
              " 'edge': 1,\n",
              " 'emitter': 1,\n",
              " 'enzymes': 1,\n",
              " 'equivalent': 1,\n",
              " 'everytime': 1,\n",
              " 'exercise pen': 1,\n",
              " 'experience': 1,\n",
              " 'farm': 1,\n",
              " 'fence': 2,\n",
              " 'fertilizer': 1,\n",
              " 'fertilizer tab': 1,\n",
              " 'filter attachment': 1,\n",
              " 'filters': 5,\n",
              " 'filtration medium': 1,\n",
              " 'filtration system': 1,\n",
              " 'find': 1,\n",
              " 'finger': 1,\n",
              " 'finger brush': 2,\n",
              " 'finger cap': 1,\n",
              " 'finger mitt': 1,\n",
              " 'fish oil': 4,\n",
              " 'fish prison': 1,\n",
              " 'fish tank water': 1,\n",
              " 'fit': 3,\n",
              " 'flea': 2,\n",
              " 'flea comb': 1,\n",
              " 'flea treatment': 2,\n",
              " 'floss': 1,\n",
              " 'floss pad': 1,\n",
              " 'flow control': 1,\n",
              " 'foam': 4,\n",
              " 'food bowl': 1,\n",
              " 'formula litter': 1,\n",
              " 'fountain head': 1,\n",
              " 'fountain nozzle': 1,\n",
              " 'fountains': 1,\n",
              " 'fountian': 1,\n",
              " 'freshwater tank': 1,\n",
              " 'frontline': 1,\n",
              " 'fry protectors': 1,\n",
              " 'function': 1,\n",
              " 'furminator': 1,\n",
              " 'gallon': 1,\n",
              " 'gallon container': 1,\n",
              " 'gallon size': 1,\n",
              " 'glow': 1,\n",
              " 'glow chuckit balls': 1,\n",
              " 'grade': 1,\n",
              " 'gravel vac': 1,\n",
              " 'haha': 1,\n",
              " 'hand': 1,\n",
              " 'hand warmers': 1,\n",
              " 'harness': 2,\n",
              " 'hay': 4,\n",
              " 'heat': 1,\n",
              " 'heat bulb': 1,\n",
              " 'heat emitter': 1,\n",
              " 'heat lamp': 2,\n",
              " 'heat pad': 1,\n",
              " 'heater': 1,\n",
              " 'heating lamp': 1,\n",
              " 'heating mat': 1,\n",
              " 'heating pad': 3,\n",
              " 'hedgehog': 1,\n",
              " 'helper': 1,\n",
              " 'hikari betta bio gold': 1,\n",
              " 'holder': 2,\n",
              " 'home': 1,\n",
              " 'home remedy': 1,\n",
              " 'hood': 1,\n",
              " 'hose': 1,\n",
              " 'hotspot spray': 1,\n",
              " 'hydrometer': 1,\n",
              " 'hygrometer': 2,\n",
              " 'ice': 1,\n",
              " 'idea': 1,\n",
              " 'improvement': 1,\n",
              " 'indoors': 1,\n",
              " 'ingredient': 2,\n",
              " 'invention': 1,\n",
              " 'item mid January': 1,\n",
              " 'jar': 1,\n",
              " 'kind': 5,\n",
              " 'kitten food': 1,\n",
              " 'kitty litter': 1,\n",
              " 'knife': 1,\n",
              " 'kong squeaky balls': 1,\n",
              " 'lamp': 3,\n",
              " 'lamp clamp': 1,\n",
              " 'launcher': 2,\n",
              " 'lavender kind': 1,\n",
              " 'lead': 1,\n",
              " 'leash': 4,\n",
              " 'lids': 2,\n",
              " 'lift': 1,\n",
              " 'line': 3,\n",
              " 'liners': 1,\n",
              " 'litter maid': 1,\n",
              " 'litter mat': 1,\n",
              " 'litter scoop': 1,\n",
              " 'liver treats': 1,\n",
              " 'lookup tables': 1,\n",
              " 'loop method': 1,\n",
              " 'machine': 1,\n",
              " 'mag': 1,\n",
              " 'magnet': 1,\n",
              " 'manufacturer': 1,\n",
              " 'manufactures': 1,\n",
              " 'master kit': 1,\n",
              " 'mat': 5,\n",
              " 'material': 2,\n",
              " 'matrix': 1,\n",
              " 'max glow ball': 1,\n",
              " 'media': 3,\n",
              " 'media container': 1,\n",
              " 'medication': 4,\n",
              " 'medium': 2,\n",
              " 'medium size': 1,\n",
              " 'mesh eyewear': 1,\n",
              " 'method': 1,\n",
              " 'micron filter': 1,\n",
              " 'mini': 1,\n",
              " 'mix': 1,\n",
              " 'model': 1,\n",
              " 'motor': 1,\n",
              " 'mouth': 1,\n",
              " 'nail trimmer': 1,\n",
              " 'net': 2,\n",
              " 'nets': 1,\n",
              " 'nitrazorb package': 1,\n",
              " 'nutrients': 1,\n",
              " 'nylabone purchase': 1,\n",
              " 'oen': 1,\n",
              " 'offbrands': 1,\n",
              " 'oil': 3,\n",
              " 'ointment': 1,\n",
              " 'one).The PetSTEP ramp': 1,\n",
              " 'one).The light': 1,\n",
              " 'ones': 3,\n",
              " 'online': 4,\n",
              " 'orange Chuckit': 1,\n",
              " 'order': 2,\n",
              " 'pad': 4,\n",
              " 'pads': 5,\n",
              " 'part': 3,\n",
              " 'parts': 1,\n",
              " 'pass': 1,\n",
              " 'paste': 1,\n",
              " 'paw mat': 1,\n",
              " 'peanut butter version': 1,\n",
              " 'pellets': 1,\n",
              " 'pen': 2,\n",
              " 'penguin rite': 1,\n",
              " 'perch': 3,\n",
              " 'pet feeder': 2,\n",
              " 'pet piller': 2,\n",
              " 'pet stain': 1,\n",
              " 'pieces': 1,\n",
              " 'pills': 1,\n",
              " 'pkg': 1,\n",
              " 'plastic': 1,\n",
              " 'plastic balls': 1,\n",
              " 'plastic boxes': 1,\n",
              " 'plastic scoop': 1,\n",
              " 'plastic shell': 1,\n",
              " 'playpen': 1,\n",
              " 'plunger': 1,\n",
              " 'polisher': 1,\n",
              " 'pond food': 1,\n",
              " 'pouch': 1,\n",
              " 'poultry flavor toothpaste': 1,\n",
              " 'power adapter': 1,\n",
              " 'power filter': 1,\n",
              " 'pre': 1,\n",
              " 'pre-': 1,\n",
              " 'prefilter': 1,\n",
              " 'premium cat litter': 1,\n",
              " 'premium litter': 1,\n",
              " 'premium litters': 1,\n",
              " 'prime': 1,\n",
              " 'prodcut': 1,\n",
              " 'prodect': 1,\n",
              " 'product eversince': 1,\n",
              " 'product mid-2003': 1,\n",
              " 'product years': 1,\n",
              " 'products': 3,\n",
              " 'puppy': 1,\n",
              " 'puppy ones': 1,\n",
              " 'puppy pad': 1,\n",
              " 'purigen': 2,\n",
              " 'python': 1,\n",
              " 'python system': 1,\n",
              " 'quality': 1,\n",
              " 'quality product': 1,\n",
              " 'quality store': 1,\n",
              " 'ramp': 5,\n",
              " 'receptacle': 1,\n",
              " 'receptacles': 2,\n",
              " 'refill version': 1,\n",
              " 'refuse containers': 1,\n",
              " 'regeneration process': 1,\n",
              " 'regeneration steps': 1,\n",
              " 'regulator': 1,\n",
              " 'remedy': 1,\n",
              " 'reminder': 1,\n",
              " 'repair kit': 1,\n",
              " 'replacement': 1,\n",
              " 'replacement part': 1,\n",
              " 'replacement parts': 1,\n",
              " 'rest': 1,\n",
              " 'restroom': 1,\n",
              " 'review': 1,\n",
              " 'ring': 1,\n",
              " 'rinse': 1,\n",
              " 'rubber': 1,\n",
              " 'rubber Kong bell': 1,\n",
              " 'rubber balls': 1,\n",
              " 'rug': 2,\n",
              " 'safety cover--': 1,\n",
              " 'salmon': 1,\n",
              " 'salmon oil': 4,\n",
              " 'salt': 1,\n",
              " 'sand': 1,\n",
              " 'scissors': 1,\n",
              " 'scoop': 1,\n",
              " 'scooper': 1,\n",
              " 'scraper': 2,\n",
              " 'scrubber attachment': 1,\n",
              " 'self': 1,\n",
              " 'self cleaning litter box': 1,\n",
              " 'seller': 1,\n",
              " 'set': 4,\n",
              " 'shampoo': 4,\n",
              " 'shipping option': 1,\n",
              " 'shock': 1,\n",
              " 'shock collar': 1,\n",
              " 'shrimp': 1,\n",
              " 'side': 1,\n",
              " 'sink': 1,\n",
              " 'sink tap water changer': 1,\n",
              " 'sister': 1,\n",
              " 'size Medium ball': 1,\n",
              " 'size product': 1,\n",
              " 'size tube': 1,\n",
              " 'sizes': 1,\n",
              " 'sloping part': 1,\n",
              " 'smell': 1,\n",
              " 'sojos': 1,\n",
              " 'solution': 3,\n",
              " 'solution!For': 1,\n",
              " 'source': 1,\n",
              " 'sponge': 2,\n",
              " 'spot': 1,\n",
              " 'spot spray': 1,\n",
              " 'spray bottle': 1,\n",
              " 'spray version': 1,\n",
              " 'squirt bottle': 1,\n",
              " 'stake': 1,\n",
              " 'steel fountain': 1,\n",
              " 'storage bin': 1,\n",
              " 'storage container': 1,\n",
              " 'store brand panty liners': 1,\n",
              " 'strap system': 1,\n",
              " 'style': 1,\n",
              " 'subscribe': 1,\n",
              " 'suction cup': 2,\n",
              " 'suction cups': 1,\n",
              " 'suction thing Python': 1,\n",
              " 'suctioncup': 1,\n",
              " 'syringe': 1,\n",
              " 'tabs': 1,\n",
              " 'tank': 3,\n",
              " 'tape': 1,\n",
              " 'taste enhancer': 1,\n",
              " 'tasting': 1,\n",
              " 'tennis ball': 1,\n",
              " 'tennis balls': 1,\n",
              " 'tense': 1,\n",
              " 'tent': 1,\n",
              " 'term': 1,\n",
              " 'terrain flake food': 1,\n",
              " 'test': 2,\n",
              " 'test kits': 1,\n",
              " 'test strips': 3,\n",
              " 'test tube': 1,\n",
              " 'tests': 2,\n",
              " 'theory': 1,\n",
              " 'thermometer': 3,\n",
              " 'thermostat': 1,\n",
              " 'threads': 1,\n",
              " 'times': 3,\n",
              " 'tins': 1,\n",
              " 'toilet': 2,\n",
              " 'tool': 2,\n",
              " 'toothbrush': 1,\n",
              " 'toothpastes': 1,\n",
              " 'top': 1,\n",
              " 'toys': 1,\n",
              " 'training instructions': 1,\n",
              " 'training pads': 1,\n",
              " 'trays': 2,\n",
              " 'treat': 3,\n",
              " 'treat bag': 2,\n",
              " 'treat cup': 1,\n",
              " 'treat holes': 1,\n",
              " 'treat tote': 1,\n",
              " 'treatment system': 1,\n",
              " 'treats': 4,\n",
              " 'trick': 2,\n",
              " 'triliogy': 1,\n",
              " 'tub': 1,\n",
              " 'tube': 1,\n",
              " 'tube method': 1,\n",
              " 'tubing': 3,\n",
              " 'tubs': 1,\n",
              " 'twice': 1,\n",
              " 'type q': 1,\n",
              " 'ultra balls': 1,\n",
              " 'value': 3,\n",
              " 'valve': 1,\n",
              " 'valves': 1,\n",
              " 'vitamin': 1,\n",
              " 'wash': 2,\n",
              " 'waste containers': 1,\n",
              " 'water': 5,\n",
              " 'water conditioner': 2,\n",
              " 'water hose': 1,\n",
              " 'waterless shampoo': 1,\n",
              " 'wattage': 1,\n",
              " 'way': 5,\n",
              " 'weekly': 1,\n",
              " 'weight': 1,\n",
              " 'wheels': 3,\n",
              " 'white carefresh': 1,\n",
              " 'width': 1,\n",
              " 'wrench': 1,\n",
              " 'year': 2,\n",
              " 'years': 3,\n",
              " 'yeast': 1,\n",
              " 'yrs': 1}"
            ]
          },
          "metadata": {},
          "execution_count": 11
        }
      ]
    },
    {
      "cell_type": "markdown",
      "metadata": {
        "id": "Ok6AX54uI9i3"
      },
      "source": [
        "И даже с фильтрацией получилось очень грязно, часто выбранные шаблоны используются в целом для описания товара и некоторых его категорий/характеристик, да и в целом частотны. Без точного названия продукта сложно придумать хороший фильтр. "
      ]
    },
    {
      "cell_type": "markdown",
      "metadata": {
        "id": "cQzjZAqD_lSL"
      },
      "source": [
        "Тут я увидела сообщение в чате телеграма, что можно выбрать конкретный продукт и по нему доставать бренды. Я решила выбрать filter, fountain. Первым словом в шаблоне будет the/this, потому что скорее всего название бренда будет начинаться с них. Так же я не буду рассматривать прилагательные в середине названия, потому что это редко, иначе попадает много мусоры"
      ]
    },
    {
      "cell_type": "code",
      "metadata": {
        "id": "bxrI3K0bA2Wp"
      },
      "source": [
        "matcher_products = Matcher(nlp.vocab)\n",
        "pattern = [{'LEMMA': {'IN': ['the', 'this']}},\n",
        "           {'POS': {\"IN\": [\"PROPN\", \"NOUN\"]}, 'OP': '+'}, \n",
        "           {'LEMMA': {'IN': ['filter', 'fountain']}}]\n",
        "matcher_products.add(\"products\", None, pattern)\n"
      ],
      "execution_count": 12,
      "outputs": []
    },
    {
      "cell_type": "code",
      "metadata": {
        "colab": {
          "base_uri": "https://localhost:8080/"
        },
        "id": "WhpVqQ4FC0oY",
        "outputId": "ea9f9d95-c232-41af-ea00-83c1e9d5ee0f"
      },
      "source": [
        "product_matches = []\n",
        "for review in tqdm(data[:50000]):\n",
        "    doc = nlp(review)\n",
        "    matches = matcher_products(doc)\n",
        "    spans = [doc[start:end] for _, start, end in matches]\n",
        "    for span in spacy.util.filter_spans(spans):\n",
        "        product_matches.append(span)"
      ],
      "execution_count": 13,
      "outputs": [
        {
          "output_type": "stream",
          "name": "stderr",
          "text": [
            "100%|██████████| 50000/50000 [17:54<00:00, 46.53it/s]\n"
          ]
        }
      ]
    },
    {
      "cell_type": "markdown",
      "metadata": {
        "id": "3fl1TrIjPW2Y"
      },
      "source": [
        "Уберем первое и последнее слова, потому что это this/the и сам продукт, таким образом останутся только названия"
      ]
    },
    {
      "cell_type": "code",
      "metadata": {
        "colab": {
          "base_uri": "https://localhost:8080/"
        },
        "id": "Xy5vyhrebQRF",
        "outputId": "a3bb04c4-60b6-4027-e02b-8e3ad0dafa38"
      },
      "source": [
        "product_matches[:10]"
      ],
      "execution_count": 14,
      "outputs": [
        {
          "output_type": "execute_result",
          "data": {
            "text/plain": [
              "[the charcoal filter,\n",
              " the carbon filters,\n",
              " The charcoal filter,\n",
              " the scent filter,\n",
              " the water filter,\n",
              " the Drinkwell Platinum fountain,\n",
              " the Petmate fountain,\n",
              " the PetMate fountain,\n",
              " the power filter,\n",
              " the power filter]"
            ]
          },
          "metadata": {},
          "execution_count": 14
        }
      ]
    },
    {
      "cell_type": "code",
      "metadata": {
        "id": "8514VL7TgI4u"
      },
      "source": [
        "fountain_brands = []\n",
        "filter_brands = []\n",
        "for product in product_matches:\n",
        "    product = str(product)\n",
        "    if product.split()[-1] in ['fountain', 'fountains']:\n",
        "        name = ' '.join(product.split()[1:-1])\n",
        "        fountain_brands.append(name)\n",
        "    else:\n",
        "        name = ' '.join(product.split()[1:-1])\n",
        "        filter_brands.append(name)"
      ],
      "execution_count": 15,
      "outputs": []
    },
    {
      "cell_type": "code",
      "metadata": {
        "colab": {
          "base_uri": "https://localhost:8080/"
        },
        "id": "HpVZs3GPC0qr",
        "outputId": "6ebb8496-0734-4ae7-8e9e-db59dc7c80ac"
      },
      "source": [
        "counter_fountain=collections.Counter(fountain_brands)\n",
        "counts={}\n",
        "for k, v in counter_fountain.items():\n",
        "    counts.setdefault(v, []).append(k)\n",
        "\n",
        "counts"
      ],
      "execution_count": 16,
      "outputs": [
        {
          "output_type": "execute_result",
          "data": {
            "text/plain": [
              "{1: ['Petmate medium size water',\n",
              "  'freshflow',\n",
              "  'Jumbo drinking',\n",
              "  'Pet Mate water',\n",
              "  'Petmate Fresh Flow water',\n",
              "  'Petco brand pet',\n",
              "  'replacement',\n",
              "  'cat water',\n",
              "  'bubble',\n",
              "  'Water',\n",
              "  'Haagen dome',\n",
              "  'Dr. Fosters water',\n",
              "  'Drihnkwell',\n",
              "  'Drinkwell cat',\n",
              "  'petmate',\n",
              "  'Platinum',\n",
              "  'cat drinkwell',\n",
              "  'cage water',\n",
              "  'catit',\n",
              "  'Hagen Catit drinking',\n",
              "  'Drinkwell Pet',\n",
              "  'Catit',\n",
              "  'Big Dog pet'],\n",
              " 2: ['Drinkwell Platinum', 'Petmate', 'PetMate', 'cat'],\n",
              " 4: ['pet', 'drinking'],\n",
              " 5: ['platinum'],\n",
              " 6: ['drinkwell'],\n",
              " 11: ['Drinkwell'],\n",
              " 17: ['water']}"
            ]
          },
          "metadata": {},
          "execution_count": 16
        }
      ]
    },
    {
      "cell_type": "code",
      "metadata": {
        "colab": {
          "base_uri": "https://localhost:8080/"
        },
        "id": "lowag0rPh1vc",
        "outputId": "195ff9fb-f5a6-4b6a-a915-a64dd03541cb"
      },
      "source": [
        "counter_filters=collections.Counter(filter_brands)\n",
        "counts={}\n",
        "for k, v in counter_filters.items():\n",
        "    counts.setdefault(v, []).append(k)\n",
        "\n",
        "counts"
      ],
      "execution_count": 17,
      "outputs": [
        {
          "output_type": "execute_result",
          "data": {
            "text/plain": [
              "{1: ['scent',\n",
              "  'biomax',\n",
              "  'Aquaclear power',\n",
              "  'Aqueon',\n",
              "  'Marineland HOB',\n",
              "  'Foam',\n",
              "  'Fluval canister',\n",
              "  'box',\n",
              "  'Marineland Biowheel',\n",
              "  'Marineland',\n",
              "  'intake',\n",
              "  'round pre',\n",
              "  'tank style',\n",
              "  'marineland',\n",
              "  'attachment',\n",
              "  'premade',\n",
              "  'factory Seaclear',\n",
              "  'Diatom',\n",
              "  'Marineland Canister',\n",
              "  'Marineland Emporer',\n",
              "  'C',\n",
              "  'Fluval FX-5 canister',\n",
              "  'fish',\n",
              "  'Rena XP series',\n",
              "  'ZooMed canister',\n",
              "  'Marina carbon',\n",
              "  'Marina gravel',\n",
              "  'Aqua Clear',\n",
              "  'tetra',\n",
              "  'Fluval Spec',\n",
              "  'cansiter',\n",
              "  'sunsun cansiter',\n",
              "  'edge',\n",
              "  'Classice Eheim',\n",
              "  'HEPA air',\n",
              "  'tom',\n",
              "  'whisper',\n",
              "  'Tetra power',\n",
              "  'mesh',\n",
              "  'Bio Bag',\n",
              "  'size',\n",
              "  'description',\n",
              "  'Fluval Underwater',\n",
              "  'plastic liter',\n",
              "  'litter',\n",
              "  'hanging',\n",
              "  'eheim classic series',\n",
              "  'Rena FilStar XP3 canister',\n",
              "  'True Air',\n",
              "  'Drinkwell',\n",
              "  'fountain',\n",
              "  'Platinum',\n",
              "  'filtration',\n",
              "  'magnum power',\n",
              "  'NOISY',\n",
              "  'rite size E',\n",
              "  'Emperor',\n",
              "  'line',\n",
              "  'undergravel',\n",
              "  'bubble',\n",
              "  'Penquin',\n",
              "  'penguin power',\n",
              "  'FreshFlow.)The',\n",
              "  'shape',\n",
              "  'Coarse',\n",
              "  'FX5',\n",
              "  'rock'],\n",
              " 2: ['thing',\n",
              "  'Fluval',\n",
              "  'Penguin',\n",
              "  'polishing',\n",
              "  'corner',\n",
              "  'Eheim',\n",
              "  'Tetra',\n",
              "  ''],\n",
              " 3: ['bio', 'foam', 'trickle', 'side', 'Cascade'],\n",
              " 4: ['Aquaclear', 'replacement', 'tank'],\n",
              " 5: ['Whisper'],\n",
              " 6: ['water', 'AquaClear', 'micron'],\n",
              " 7: ['air'],\n",
              " 9: ['sponge', 'HOB'],\n",
              " 12: ['charcoal'],\n",
              " 13: ['power'],\n",
              " 14: ['carbon'],\n",
              " 23: ['canister']}"
            ]
          },
          "metadata": {},
          "execution_count": 17
        }
      ]
    },
    {
      "cell_type": "markdown",
      "metadata": {
        "id": "Ckr01JKINsDQ"
      },
      "source": [
        "# N-граммы"
      ]
    },
    {
      "cell_type": "markdown",
      "metadata": {
        "id": "vJyx2Wl7iRaN"
      },
      "source": [
        "Для поиска n-грамм выберем 5 брэндов поилок и фильтров вручную, потому что мусора все еще не мало.\n",
        "\n",
        "Fountain:\n",
        "- Drinkwell\n",
        "- Platinum\n",
        "- PetMate\n",
        "- Catit\n",
        "- Jumbo\n",
        "\n",
        "Filter:\n",
        "- AquaClear\n",
        "- Whisper\n",
        "- Marineland\n",
        "- Fluval\n",
        "- Penguin"
      ]
    },
    {
      "cell_type": "code",
      "metadata": {
        "id": "P1vaSxJpI1vM"
      },
      "source": [
        "import nltk\n",
        "from nltk.collocations import *\n",
        "bigram_measures = nltk.collocations.BigramAssocMeasures()\n",
        "trigram_measures = nltk.collocations.TrigramAssocMeasures()\n",
        "\n",
        "\n",
        "corpus = ' '.join([d.lower() for d in data])\n",
        "tokens = nltk.wordpunct_tokenize(corpus)\n",
        "finder_bigrams_filter = BigramCollocationFinder.from_words(tokens)\n",
        "finder_trigrams_filter = TrigramCollocationFinder.from_words(tokens)\n",
        "\n",
        "finder_bigrams_fontain = BigramCollocationFinder.from_words(tokens)\n",
        "finder_trigrams_fontain  = TrigramCollocationFinder.from_words(tokens)"
      ],
      "execution_count": 77,
      "outputs": []
    },
    {
      "cell_type": "code",
      "metadata": {
        "colab": {
          "base_uri": "https://localhost:8080/"
        },
        "id": "RFSs2XG8OFHw",
        "outputId": "88419b5f-db7d-4e6c-8c0c-0f2264746cf1"
      },
      "source": [
        "filter_filter = lambda *w: 'platinum' not in w and 'drinkwell' not in w and 'catit' not in w and 'jumbo' not in w and 'petmate' not in w\n",
        "finder_bigrams_filter.apply_freq_filter(3) # фильтр на нграммы, которые встречаются чаще 3\n",
        "finder_trigrams_filter.apply_freq_filter(3)\n",
        "\n",
        "finder_bigrams_filter.apply_ngram_filter(filter_filter) # нграммы с выбранными брендами\n",
        "finder_trigrams_filter.apply_ngram_filter(filter_filter)\n",
        "\n",
        "print('1. Log likelihood\\nБиграммы:', finder_bigrams_filter.nbest(bigram_measures.likelihood_ratio, 20))\n",
        "print('Триграммы:', finder_trigrams_filter.nbest(trigram_measures.likelihood_ratio, 20))\n",
        "\n",
        "print('2. PMI\\nБиграммы:', finder_bigrams_filter.nbest(bigram_measures.pmi, 20))\n",
        "print('Триграммы:', finder_trigrams_filter.nbest(trigram_measures.pmi, 20))\n",
        "\n",
        "print('3. Jaccard\\nБиграммы:', finder_bigrams_filter.nbest(bigram_measures.jaccard, 20))\n",
        "print('Триграммы:', finder_trigrams_filter.nbest(trigram_measures.jaccard, 20))\n"
      ],
      "execution_count": 81,
      "outputs": [
        {
          "output_type": "stream",
          "name": "stdout",
          "text": [
            "1. Log likelihood\n",
            "Биграммы: [('drinkwell', 'platinum'), ('drinkwell', 'fountain'), ('the', 'drinkwell'), ('drinkwell', '360'), ('platinum', 'fountain'), ('drinkwell', 'hy'), ('the', 'petmate'), ('drinkwell', 'fountains'), ('jumbo', 'size'), ('the', 'catit'), ('hagen', 'catit'), ('platinum', 'pet'), ('the', 'jumbo'), ('catit', 'fountain'), ('petmate', 'deluxe'), ('drinkwell', 'original'), ('catit', 'design'), ('the', 'platinum'), ('catit', 'senses'), ('petmate', 'fountain')]\n",
            "Триграммы: [('drinkwell', \"'\", 's'), ('petmate', \"'\", 's'), ('platinum', \"'\", 's'), ('catit', \"'\", 's'), ('platinum', '.', 'i'), ('drinkwell', '.', 'i'), ('petmate', '.', 'i'), ('jumbo', '&#', '34'), ('platinum', ',', 'but'), ('drinkwell', ',', 'but'), ('34', ';', 'jumbo'), ('in', 'the', 'drinkwell'), ('in', 'the', 'petmate'), ('in', 'the', 'catit'), ('in', 'the', 'jumbo'), ('of', 'the', 'drinkwell'), ('of', 'the', 'petmate'), ('of', 'the', 'catit'), ('of', 'the', 'jumbo'), ('of', 'the', 'platinum')]\n",
            "2. PMI\n",
            "Биграммы: [('thehagen', 'catit'), ('adrinkwell', 'platinum'), ('jumbo', 'tagalong'), ('thedrinkwell', 'platinum'), ('petmate', 'freshflow'), ('catit', 'senses'), ('petmate', 'lebistro'), ('drinkwell', 'platinum'), ('hagen', 'catit'), ('drinkwell', 'hy'), ('drinkwell', '360'), ('petmate', 'le'), ('jumbo', 'hooded'), ('petmate', 'deluxe'), ('petmate', 'akc'), ('solvit', 'jumbo'), ('catit', 'hooded'), ('catit', 'jumbo'), ('catit', 'circuit'), ('petmate', 'waterer')]\n",
            "Триграммы: [('solvit', 'jumbo', 'tagalong'), ('petmate', 'le', 'bistro'), ('.---', 'hagen', 'catit'), ('.---', 'drinkwell', 'rectangle'), ('thehagen', 'catit', 'design'), ('catit', 'jumbo', 'hooded'), ('catit', 'senses', 'massage'), ('catit', 'design', 'senses'), ('adrinkwell', 'platinum', 'pet'), ('drinkwell', 'rectangle', 'multi'), ('thedrinkwell', 'platinum', 'pet'), ('petmate', 'deluxe', 'fresh'), ('hagen', 'catit', 'design'), ('drinkwell', '360', 'stainless'), ('drinkwell', 'platinum', 'fountain'), ('steel', 'drinkwell', '360'), ('jonny', 'cat', 'jumbo'), ('hagen', 'catit', 'fountain'), ('fountain', '.---', 'drinkwell'), ('catit', 'play', 'circuit')]\n",
            "3. Jaccard\n",
            "Биграммы: [('drinkwell', 'platinum'), ('drinkwell', '360'), ('hagen', 'catit'), ('catit', 'senses'), ('petmate', 'deluxe'), ('drinkwell', 'fountain'), ('drinkwell', 'hy'), ('jumbo', 'hooded'), ('drinkwell', 'fountains'), ('catit', 'jumbo'), ('thedrinkwell', 'platinum'), ('platinum', 'fountain'), ('catit', 'hooded'), ('petmate', 'le'), ('thehagen', 'catit'), ('jumbo', 'tagalong'), ('petmate', 'akc'), ('catit', 'circuit'), ('solvit', 'jumbo'), ('petmate', 'lebistro')]\n",
            "Триграммы: [('petmate', 'le', 'bistro'), ('solvit', 'jumbo', 'tagalong'), ('catit', 'jumbo', 'hooded'), ('drinkwell', 'platinum', 'fountain'), ('catit', 'senses', 'massage'), ('.---', 'hagen', 'catit'), ('catit', 'design', 'senses'), ('petmate', 'fresh', 'flow'), ('drinkwell', '360', 'stainless'), ('stainless', 'steel', 'drinkwell'), ('drinkwell', 'rectangle', 'multi'), ('petmate', 'deluxe', 'fresh'), ('steel', 'drinkwell', '360'), ('.---', 'drinkwell', 'rectangle'), ('drinkwell', '360', 'fountain'), ('platinum', 'pet', 'fountain'), ('hagen', 'catit', 'design'), ('drinkwell', 'platinum', 'pet'), ('platinum', 'drinkwell', 'fountain'), ('drinkwell', '360', '+')]\n"
          ]
        }
      ]
    },
    {
      "cell_type": "code",
      "metadata": {
        "colab": {
          "base_uri": "https://localhost:8080/"
        },
        "id": "kV4SKKLDYSk1",
        "outputId": "67cd5e8e-a289-4040-c2de-c0020ffe19ab"
      },
      "source": [
        "filter_fontain = lambda *w: 'aquaclear' not in w and 'whisper' not in w and 'marineland' not in w and 'fluval' not in w and 'penguin' not in w \n",
        "finder_bigrams_fontain.apply_freq_filter(3) # фильтр на нграммы, которые встречаются чаще 3\n",
        "finder_trigrams_fontain.apply_freq_filter(3)\n",
        "\n",
        "finder_bigrams_fontain.apply_ngram_filter(filter_fontain) # нграммы с выбранными брендами\n",
        "finder_trigrams_fontain.apply_ngram_filter(filter_fontain)\n",
        "\n",
        "print('1. Log likelihood\\nБиграммы:', finder_bigrams_fontain.nbest(bigram_measures.likelihood_ratio, 20))\n",
        "print('Триграммы:', finder_trigrams_fontain.nbest(trigram_measures.likelihood_ratio, 20))\n",
        "\n",
        "print('2. PMI\\nБиграммы:', finder_bigrams_fontain.nbest(bigram_measures.pmi, 20))\n",
        "print('Триграммы:', finder_trigrams_fontain.nbest(trigram_measures.pmi, 20))\n",
        "\n",
        "print('3. Jaccard\\nБиграммы:', finder_bigrams_fontain.nbest(bigram_measures.jaccard, 20))\n",
        "print('Триграммы:', finder_trigrams_fontain.nbest(trigram_measures.jaccard, 20))\n"
      ],
      "execution_count": 82,
      "outputs": [
        {
          "output_type": "stream",
          "name": "stdout",
          "text": [
            "1. Log likelihood\n",
            "Биграммы: [('tetra', 'whisper'), ('fluval', 'edge'), ('the', 'fluval'), ('aquaclear', '50'), ('fluval', 'spec'), ('fluval', '306'), ('aquaclear', '20'), ('fluval', 'fx5'), ('fluval', '305'), ('the', 'aquaclear'), ('aquaclear', '110'), ('an', 'aquaclear'), ('aquaclear', '70'), ('my', 'fluval'), ('whisper', 'quiet'), ('whisper', 'air'), ('fluval', '406'), ('fluval', 'chi'), ('fluval', 'canister'), ('penguin', '350')]\n",
            "Триграммы: [('fluval', \"'\", 's'), ('marineland', \"'\", 's'), ('aquaclear', \"'\", 's'), ('fluval', '.', 'i'), ('marineland', '.', 'i'), ('aquaclear', '.', 'i'), ('whisper', '.', 'i'), ('whisper', '&#', '34'), ('marineland', ',', 'but'), ('fluval', ',', 'but'), (',', 'but', 'fluval'), ('34', ';', 'whisper'), ('34', ';', 'marineland'), ('in', 'the', 'fluval'), ('in', 'the', 'aquaclear'), ('in', 'the', 'penguin'), ('of', 'the', 'fluval'), ('of', 'the', 'aquaclear'), ('of', 'the', 'marineland'), ('of', 'the', 'whisper')]\n",
            "2. PMI\n",
            "Биграммы: [('marineland', 'stealthpro'), ('marineland', 'crescent'), ('penguin', '350'), ('fluval', 'q2'), ('marineland', 'stealth'), ('fluval', '306'), ('penguin', 'biowheel'), ('fluval', '304'), ('fluval', '88g'), ('fluval', '404'), ('fluval', '405'), ('tetra', 'whisper'), ('fluval', 'spec'), ('fluval', '305'), ('aquaclear', '110'), ('fluval', '206'), ('fluval', 'c3'), ('marineland', 'biowheel'), ('penguin', '200'), ('fluval', 'fx5')]\n",
            "Триграммы: [('marineland', 'magnum', '350'), ('fluval', 'spec', 'v'), ('fluval', 'spec', 'iii'), ('fluval', 'c4', 'hob'), ('fluval', 'co2', '88'), ('fluval', 'cf', '13'), ('fluval', '305', 'canister'), ('fluval', '306', 'canister'), ('fluval', '106', 'canister'), ('fluval', '406', 'canister'), ('fluval', 'biomax', 'rings'), ('300', 'watt', 'fluval'), ('fluval', 'fx5', 'canister'), ('marineland', 'penguin', '100'), ('marineland', 'activated', 'carbon'), ('tetra', 'whisper', 'bio'), ('fluval', 'c', 'series'), ('fluval', '304', 'filter'), ('fluval', 'e', 'series'), ('marineland', 'biowheel', 'filter')]\n",
            "3. Jaccard\n",
            "Биграммы: [('tetra', 'whisper'), ('penguin', '350'), ('aquaclear', '110'), ('fluval', 'spec'), ('fluval', '306'), ('penguin', '200'), ('fluval', 'edge'), ('fluval', 'fx5'), ('fluval', '305'), ('aquaclear', '70'), ('marineland', 'penguin'), ('aquaclear', '50'), ('penguin', '150'), ('penguin', 'biowheel'), ('fluval', '406'), ('fluval', 'chi'), ('marineland', 'biowheel'), ('fluval', 'c4'), ('marineland', 'stealth'), ('fluval', 'canister')]\n",
            "Триграммы: [('fluval', 'spec', 'v'), ('marineland', 'magnum', '350'), ('fluval', 'co2', '88'), ('fluval', 'spec', 'iii'), ('fluval', '305', 'canister'), ('fluval', 'c', 'series'), ('fluval', 'e', 'series'), ('whisper', 'air', 'pump'), ('fluval', '306', 'canister'), ('fluval', 'c4', 'hob'), ('fluval', '406', 'canister'), ('tetra', 'whisper', 'air'), ('fluval', 'cf', '13'), ('tetra', 'whisper', 'bio'), ('tetra', 'whisper', '60'), ('marineland', 'activated', 'carbon'), ('300', 'watt', 'fluval'), ('watt', 'fluval', 'e'), ('fluval', 'biomax', 'rings'), ('fluval', 'canister', 'filters')]\n"
          ]
        }
      ]
    },
    {
      "cell_type": "markdown",
      "metadata": {
        "id": "lSEozTelimAH"
      },
      "source": [
        "Видно, что мера log likelihood оценивает высоко не то, что нам нужно, особенно для триграмм: в топе оказываются очень частотные, но бесполезные нграмы. Для PMI и Jaccard результаты выглядят так, будто это похоже на какие-то названия отдельных товаров бренда. Я возьму топ по Jaccard для товаров filters и топ по PMI для fontains."
      ]
    },
    {
      "cell_type": "markdown",
      "metadata": {
        "id": "1DeU-IKOmFAd"
      },
      "source": [
        "Я не особо поняла, что нужно группировать и как это связано с метриками с предыдущего шага. Я возьму топ40 по выбранной метрике и их сгруппирую по бренду."
      ]
    },
    {
      "cell_type": "code",
      "metadata": {
        "id": "0M11uzoBiS4Q"
      },
      "source": [
        "filter_bigrams = finder_bigrams_filter.nbest(bigram_measures.jaccard, 40)\n",
        "filter_trigrams = finder_trigrams_filter.nbest(trigram_measures.jaccard, 40)\n",
        "\n",
        "fontain_bigrams = finder_bigrams_fontain.nbest(bigram_measures.pmi, 40)\n",
        "fontain_trigrams = finder_trigrams_fontain.nbest(trigram_measures.pmi, 40)\n"
      ],
      "execution_count": 85,
      "outputs": []
    },
    {
      "cell_type": "code",
      "metadata": {
        "id": "lZZBHAu-orHB"
      },
      "source": [
        "dict_filter = {'drinkwell': [],\n",
        "     'platinum': [],\n",
        "     'jumbo': [],\n",
        "     'catit': [],\n",
        "     'petmate': []}\n",
        "for ngram in filter_bigrams+filter_trigrams:\n",
        "    for key in dict_filter.keys(): \n",
        "        if key in ngram:\n",
        "            dict_filter[key].append(' '.join(ngram))\n",
        "\n",
        "dict_fontain = {'aquaclear': [],\n",
        "     'whisper': [],\n",
        "     'marineland': [],\n",
        "     'fluval': [],\n",
        "     'penguin': []}\n",
        "for ngram in fontain_bigrams+fontain_trigrams:\n",
        "    for key in dict_fontain.keys(): \n",
        "        if key in ngram:\n",
        "            dict_fontain[key].append(' '.join(ngram))"
      ],
      "execution_count": 96,
      "outputs": []
    },
    {
      "cell_type": "code",
      "metadata": {
        "id": "GGcQrdgbrP5n"
      },
      "source": [
        "def print_nice(d):\n",
        "    for key in d.keys():\n",
        "        print(key, '\\n---')\n",
        "        for name in d[key]:\n",
        "            print(name)\n",
        "        print('................\\n\\n')\n"
      ],
      "execution_count": 101,
      "outputs": []
    },
    {
      "cell_type": "code",
      "metadata": {
        "colab": {
          "base_uri": "https://localhost:8080/"
        },
        "id": "jfg974dnr2t-",
        "outputId": "92c23a5d-c932-432a-ae24-773f936ea438"
      },
      "source": [
        "print_nice(dict_filter)"
      ],
      "execution_count": 103,
      "outputs": [
        {
          "output_type": "stream",
          "name": "stdout",
          "text": [
            "drinkwell \n",
            "---\n",
            "drinkwell platinum\n",
            "drinkwell 360\n",
            "drinkwell fountain\n",
            "drinkwell hy\n",
            "drinkwell fountains\n",
            "platinum drinkwell\n",
            "drinkwell original\n",
            "original drinkwell\n",
            "drinkwell rectangle\n",
            "drinkwell platinum fountain\n",
            "drinkwell 360 stainless\n",
            "stainless steel drinkwell\n",
            "drinkwell rectangle multi\n",
            "steel drinkwell 360\n",
            ".--- drinkwell rectangle\n",
            "drinkwell 360 fountain\n",
            "drinkwell platinum pet\n",
            "platinum drinkwell fountain\n",
            "drinkwell 360 +\n",
            "drinkwell platinum premium\n",
            "drinkwell stainless steel\n",
            "drinkwell platinum drinking\n",
            "drinkwell pet fountain\n",
            "original drinkwell fountain\n",
            "drinkwell original fountain\n",
            "second drinkwell fountain\n",
            "fountain .--- drinkwell\n",
            "drinkwell original pet\n",
            "drinkwell fountain premium\n",
            "drinkwell hy -\n",
            "drinkwell cleaning kit\n",
            "................\n",
            "\n",
            "\n",
            "platinum \n",
            "---\n",
            "drinkwell platinum\n",
            "thedrinkwell platinum\n",
            "platinum fountain\n",
            "platinum drinkwell\n",
            "adrinkwell platinum\n",
            "platinum fountains\n",
            "drinkwell platinum fountain\n",
            "platinum pet fountain\n",
            "drinkwell platinum pet\n",
            "platinum drinkwell fountain\n",
            "drinkwell platinum premium\n",
            "drinkwell platinum drinking\n",
            "platinum premium filters\n",
            "platinum drinking fountain\n",
            "platinum fountain mat\n",
            "................\n",
            "\n",
            "\n",
            "jumbo \n",
            "---\n",
            "jumbo hooded\n",
            "catit jumbo\n",
            "jumbo tagalong\n",
            "solvit jumbo\n",
            "jumbo liners\n",
            "jumbo pan\n",
            "solvit jumbo tagalong\n",
            "catit jumbo hooded\n",
            "................\n",
            "\n",
            "\n",
            "catit \n",
            "---\n",
            "hagen catit\n",
            "catit senses\n",
            "catit jumbo\n",
            "catit hooded\n",
            "thehagen catit\n",
            "catit circuit\n",
            "catit track\n",
            "catit design\n",
            "catit fountain\n",
            "catit scratcher\n",
            "catit speed\n",
            "catit jumbo hooded\n",
            "catit senses massage\n",
            ".--- hagen catit\n",
            "catit design senses\n",
            "hagen catit design\n",
            "thehagen catit design\n",
            "hagen catit fountain\n",
            "catit drinking fountain\n",
            "catit design fresh\n",
            "catit play circuit\n",
            "................\n",
            "\n",
            "\n",
            "petmate \n",
            "---\n",
            "petmate deluxe\n",
            "petmate le\n",
            "petmate akc\n",
            "petmate lebistro\n",
            "petmate waterer\n",
            "petmate freshflow\n",
            "petmate ultimate\n",
            "petmate fresh\n",
            "petmate fountain\n",
            "petmate kennel\n",
            "petmate classic\n",
            "petmate le bistro\n",
            "petmate fresh flow\n",
            "petmate deluxe fresh\n",
            "................\n",
            "\n",
            "\n"
          ]
        }
      ]
    },
    {
      "cell_type": "code",
      "metadata": {
        "colab": {
          "base_uri": "https://localhost:8080/"
        },
        "id": "1y6lghSlqGVy",
        "outputId": "9cf00d95-6364-45a1-e4ff-482fea1863b3"
      },
      "source": [
        "print_nice(dict_fontain)"
      ],
      "execution_count": 102,
      "outputs": [
        {
          "output_type": "stream",
          "name": "stdout",
          "text": [
            "aquaclear \n",
            "---\n",
            "aquaclear 110\n",
            "aquaclear 70\n",
            "aquaclear biomax\n",
            "aquaclear hob filters\n",
            "aquaclear 70 power\n",
            "aquaclear 50 foam\n",
            "an aquaclear 110\n",
            "................\n",
            "\n",
            "\n",
            "whisper \n",
            "---\n",
            "tetra whisper\n",
            "tetra whisper bio\n",
            "tetra whisper 60\n",
            "tetra whisper air\n",
            "tetra whisper pump\n",
            "tetra whisper filter\n",
            "whisper air pumps\n",
            "whisper air pump\n",
            "................\n",
            "\n",
            "\n",
            "marineland \n",
            "---\n",
            "marineland stealthpro\n",
            "marineland crescent\n",
            "marineland stealth\n",
            "marineland biowheel\n",
            "marineland eclipse\n",
            "marineland magnum\n",
            "marineland penguin\n",
            "marineland emperor\n",
            "marineland 350\n",
            "marineland 400\n",
            "marineland magnum 350\n",
            "marineland penguin 100\n",
            "marineland activated carbon\n",
            "marineland biowheel filter\n",
            "marineland double bright\n",
            "marineland single bright\n",
            "................\n",
            "\n",
            "\n",
            "fluval \n",
            "---\n",
            "fluval q2\n",
            "fluval 306\n",
            "fluval 304\n",
            "fluval 88g\n",
            "fluval 404\n",
            "fluval 405\n",
            "fluval spec\n",
            "fluval 305\n",
            "fluval 206\n",
            "fluval c3\n",
            "fluval fx5\n",
            "fluval 205\n",
            "fluval c4\n",
            "fluval u2\n",
            "fluval 106\n",
            "fluval 406\n",
            "fluval c2\n",
            "fluval cf\n",
            "fluval biomax\n",
            "fluval prefilter\n",
            "fluval spec v\n",
            "fluval spec iii\n",
            "fluval c4 hob\n",
            "fluval co2 88\n",
            "fluval cf 13\n",
            "fluval 305 canister\n",
            "fluval 306 canister\n",
            "fluval 106 canister\n",
            "fluval 406 canister\n",
            "fluval biomax rings\n",
            "300 watt fluval\n",
            "fluval fx5 canister\n",
            "fluval c series\n",
            "fluval 304 filter\n",
            "fluval e series\n",
            "fluval biological cleaner\n",
            "watt fluval e\n",
            "fluval fx5 filter\n",
            "fluval edge pre\n",
            "fluval spec 3\n",
            "fluval canister filters\n",
            "new fluval spec\n",
            "................\n",
            "\n",
            "\n",
            "penguin \n",
            "---\n",
            "penguin 350\n",
            "penguin biowheel\n",
            "penguin 200\n",
            "marineland penguin\n",
            "penguin 150\n",
            "350 penguin\n",
            "penguin models\n",
            "marineland penguin 100\n",
            "penguin 100 power\n",
            "................\n",
            "\n",
            "\n"
          ]
        }
      ]
    },
    {
      "cell_type": "code",
      "metadata": {
        "id": "opaz10b2rCL3"
      },
      "source": [
        ""
      ],
      "execution_count": null,
      "outputs": []
    }
  ]
}