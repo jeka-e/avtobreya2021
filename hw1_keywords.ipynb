{
  "nbformat": 4,
  "nbformat_minor": 0,
  "metadata": {
    "colab": {
      "name": "hw1_keywords.ipynb",
      "provenance": []
    },
    "kernelspec": {
      "name": "python3",
      "display_name": "Python 3"
    },
    "language_info": {
      "name": "python"
    }
  },
  "cells": [
    {
      "cell_type": "code",
      "metadata": {
        "id": "ax8ZOQYyYWnR"
      },
      "source": [
        "# !pip3 install python-rake\n",
        "# !pip install summa\n",
        "# !pip install pymorphy2"
      ],
      "execution_count": 200,
      "outputs": []
    },
    {
      "cell_type": "code",
      "metadata": {
        "colab": {
          "base_uri": "https://localhost:8080/"
        },
        "id": "V5dA0ekhYNh6",
        "outputId": "5f5e2463-8a7e-4343-bf6a-5bd657095c75"
      },
      "source": [
        "import os\n",
        "import pandas as pd\n",
        "import numpy as np\n",
        "import nltk\n",
        "nltk.download(\"stopwords\")\n",
        "\n",
        "from nltk.corpus import stopwords\n",
        "from string import punctuation\n",
        "\n",
        "import pymorphy2\n",
        "from pymorphy2.tokenizers import simple_word_tokenize\n",
        "\n",
        "\n",
        "morph = pymorphy2.MorphAnalyzer() \n",
        "russian_stopwords = stopwords.words(\"russian\")"
      ],
      "execution_count": 201,
      "outputs": [
        {
          "output_type": "stream",
          "name": "stdout",
          "text": [
            "[nltk_data] Downloading package stopwords to /root/nltk_data...\n",
            "[nltk_data]   Package stopwords is already up-to-date!\n"
          ]
        }
      ]
    },
    {
      "cell_type": "code",
      "metadata": {
        "id": "SxYaKFIAYzTb"
      },
      "source": [
        "def preprocess_text(text): #удаляет все лишние символы и лемматизирует, избавляется от регистра\n",
        "    tokens = [token.strip('\\\\,.\\'!?-:;\\\")(1234567890[]|%–“”={}×+⊃∈→«»—/‘’*').lower() \\\n",
        "              for token in text.split()]\n",
        "    \n",
        "    text = [morph.parse(token)[0].normal_form for token in tokens]\n",
        "    \n",
        "    tokens = ' '.join(token for token in text)\n",
        "    return tokens"
      ],
      "execution_count": 202,
      "outputs": []
    },
    {
      "cell_type": "code",
      "metadata": {
        "id": "IxmsHyKPfw9z"
      },
      "source": [
        "filelist = [] \n",
        "for root, dirs, files in os.walk('./texts'):\n",
        "    for name in files:\n",
        "        filelist.append(os.path.join(root, name))\n",
        "\n",
        "corpus = []\n",
        "\n",
        "for file in filelist:\n",
        "    with open(file, 'r') as f:  \n",
        "        text = f.read()\n",
        "        corpus.append(text)\n",
        "\n",
        "corpus_preprocessed =  [preprocess_text(text) for text in corpus]"
      ],
      "execution_count": 203,
      "outputs": []
    },
    {
      "cell_type": "markdown",
      "metadata": {
        "id": "RlaVIuKssu8F"
      },
      "source": [
        "##RAKE##"
      ]
    },
    {
      "cell_type": "code",
      "metadata": {
        "id": "Ef3_B1FU3lOY"
      },
      "source": [
        "import RAKE"
      ],
      "execution_count": 204,
      "outputs": []
    },
    {
      "cell_type": "code",
      "metadata": {
        "id": "BDU3V7s7gB6a"
      },
      "source": [
        "rake = RAKE.Rake(russian_stopwords)"
      ],
      "execution_count": 205,
      "outputs": []
    },
    {
      "cell_type": "code",
      "metadata": {
        "id": "vzT8p6xZ2NfM"
      },
      "source": [
        "rake_keywords = []\n",
        "for text in corpus_preprocessed:\n",
        "    rake_rez = rake.run(text, maxWords=3, minFrequency=1)\n",
        "    kw = [rake_rez[i][0] for i in range(len(rake_rez))]\n",
        "    rake_keywords.append(kw)"
      ],
      "execution_count": 206,
      "outputs": []
    },
    {
      "cell_type": "markdown",
      "metadata": {
        "id": "Z6E0jyxM3O6l"
      },
      "source": [
        "##TextRank##"
      ]
    },
    {
      "cell_type": "code",
      "metadata": {
        "id": "EZWnQcCAhHkW"
      },
      "source": [
        "from summa import keywords"
      ],
      "execution_count": 207,
      "outputs": []
    },
    {
      "cell_type": "code",
      "metadata": {
        "id": "XOsJia9hjEx9"
      },
      "source": [
        "textrank_keywords = []\n",
        "for text in corpus_preprocessed:\n",
        "    textrank_rez = keywords.keywords(text, language='russian', additional_stopwords=russian_stopwords, scores=True)\n",
        "    tr_keywords = [textrank_rez[i][0] for i in range(len(textrank_rez))]\n",
        "    textrank_keywords.append(tr_keywords)"
      ],
      "execution_count": 208,
      "outputs": []
    },
    {
      "cell_type": "markdown",
      "metadata": {
        "id": "KAV3IGCo-SHj"
      },
      "source": [
        "##TFIDF##"
      ]
    },
    {
      "cell_type": "markdown",
      "metadata": {
        "id": "XbCMBr9FRuI9"
      },
      "source": [
        "Я взяла топ 50 слов для каждого текста с наибольшим значением tfidf, учитывались уни-, би- и триграммы"
      ]
    },
    {
      "cell_type": "code",
      "metadata": {
        "id": "RIxRlIgf4N2a"
      },
      "source": [
        "from sklearn.feature_extraction.text import TfidfVectorizer"
      ],
      "execution_count": 209,
      "outputs": []
    },
    {
      "cell_type": "code",
      "metadata": {
        "id": "2u4pBAY__E0g"
      },
      "source": [
        "vectorizer = TfidfVectorizer(stop_words=russian_stopwords, ngram_range=(1,3))\n",
        "X = vectorizer.fit_transform(corpus_preprocessed)\n",
        "names = np.array(vectorizer.get_feature_names())\n",
        "\n",
        "tfidf_keywords = [names[np.argsort(X.toarray()[i])[-50:]].tolist() for i in range(4)]"
      ],
      "execution_count": 210,
      "outputs": []
    },
    {
      "cell_type": "markdown",
      "metadata": {
        "id": "acAfkF1haa3I"
      },
      "source": [
        "## Фильтры ##\n",
        "\n"
      ]
    },
    {
      "cell_type": "markdown",
      "metadata": {
        "id": "uTQtne4GU_k1"
      },
      "source": [
        "Эталонные ключевые слова:\n",
        "*русский язык; французский язык; одушевлённость; местоимения; анафорические употребления; дейктические употребления; *\n",
        "\n",
        "*тональность текста; метод опорных векторов; наивный байесовский классификатор; random forest; классификация текстов; машинное обучение; социальные сети;*\n",
        "\n",
        "*Ювентус; Зенит; Клаудиньо; Семак; Лига чемпионов;*\n",
        "\n",
        "*Манчестер Юнайтед; Аталанта; Криштиану Роналду; Лига чемпионов.*\n",
        "\n",
        "В целом, можно выделить следующие синтаксические  шаблоны:\n",
        "- **Noun**\n",
        "- **Adj + Noun**\n",
        "- **Noun + Noun**\n",
        "- **Adj + Adj + Noun**\n",
        "- **Noun + Adj + Noun**\n",
        "\n",
        "Морфологические характеристики я не добавляла, так все лемматизировала\n"
      ]
    },
    {
      "cell_type": "markdown",
      "metadata": {
        "id": "kEmAcx1zb-1a"
      },
      "source": [
        "Буду фильтровать выделенные ключевые слова по ним."
      ]
    },
    {
      "cell_type": "code",
      "metadata": {
        "id": "0J6yCkgcaVIQ"
      },
      "source": [
        "patterns = [['NOUN'], ['ADJF', 'NOUN'], ['NOUN', 'NOUN'], ['ADJF', 'ADJF', 'NOUN'], ['NOUN', 'ADJF', 'NOUN']]\n",
        "\n",
        "def filter_kw(kw_list): \n",
        "    keywords_filtered = []\n",
        "    for text_kw in kw_list:\n",
        "        text_kw_filtered = []\n",
        "        for kw in text_kw:\n",
        "            if [morph.parse(word)[0].tag.POS for word in kw.split()] in patterns:\n",
        "                text_kw_filtered.append(kw)\n",
        "        keywords_filtered.append(text_kw_filtered)\n",
        "    return keywords_filtered\n",
        "\n",
        "rake_keywords_filtered = filter_kw(rake_keywords)\n",
        "textrank_keywords_filtered = filter_kw(textrank_keywords)\n",
        "tfidf_keywords_filtered = filter_kw(tfidf_keywords)\n"
      ],
      "execution_count": 211,
      "outputs": []
    },
    {
      "cell_type": "markdown",
      "metadata": {
        "id": "o7Hs1SQlSCN4"
      },
      "source": [
        "##Метрика##"
      ]
    },
    {
      "cell_type": "code",
      "metadata": {
        "id": "WvvcLbQCRNc2"
      },
      "source": [
        "keywords_init = [['Ювентус', 'Зенит', 'Клаудиньо', 'Семак', 'Лига чемпионов'], \\\n",
        "                 ['тональность текста', 'метод опорных векторов', 'наивный байесовский классификатор', 'random forest', 'классификация текстов', 'машинное обучение'],\\\n",
        "                 ['русский язык', 'французский язык', 'одушевлённость', 'местоимения', 'анафорические употребления', 'дейктические употребления'],\\\n",
        "                 ['Манчестер Юнайтед', 'Аталанта', 'Криштиану Роналду', 'Лига чемпионов']]\n",
        "\n",
        "true_keywords = []\n",
        "for keywords in keywords_init:\n",
        "    true_keywords.append([preprocess_text(kw) for kw in keywords])\n",
        "    "
      ],
      "execution_count": 212,
      "outputs": []
    },
    {
      "cell_type": "code",
      "metadata": {
        "id": "201d6i3msWS-"
      },
      "source": [
        "def count_precision(predicted_keywords, true_keywords):\n",
        "    intersection = list(set(predicted_keywords) & set(true_keywords))\n",
        "    return len(intersection)/len(predicted_keywords)\n",
        "\n",
        "\n",
        "def count_recall(predicted_keywords, true_keywords):\n",
        "    intersection = list(set(predicted_keywords) & set(true_keywords))\n",
        "    return len(intersection)/len(true_keywords)\n",
        "\n",
        "  \n",
        "def count_f_measure(predicted_keywords, true_keywords):  #макро\n",
        "    intersection = list(set(predicted_keywords) & set(true_keywords))\n",
        "    precision = len(intersection)/len(predicted_keywords)\n",
        "    recall = len(intersection)/len(true_keywords)\n",
        "    if precision+recall > 0:\n",
        "        f_measure = 2*(precision)*recall/(precision+recall)\n",
        "    else:\n",
        "        f_measure = 0\n",
        "    return f_measure\n",
        "    \n",
        "rezults = []\n",
        "for i in range(4):  #посчитаем отдельно для каждого текста\n",
        "    precisions = [count_precision(kw[i], true_keywords[i]) for kw in [rake_keywords, textrank_keywords, tfidf_keywords, rake_keywords_filtered, textrank_keywords_filtered, tfidf_keywords_filtered]]\n",
        "    recalls = [count_recall(kw[i], true_keywords[i]) for kw in [rake_keywords, textrank_keywords, tfidf_keywords, rake_keywords_filtered, textrank_keywords_filtered, tfidf_keywords_filtered]]\n",
        "    f_measures = [count_f_measure(kw[i], true_keywords[i]) for kw in [rake_keywords, textrank_keywords, tfidf_keywords, rake_keywords_filtered, textrank_keywords_filtered, tfidf_keywords_filtered]]\n",
        "    rez_df = pd.DataFrame([precisions, recalls, f_measures], columns=['RAKE', 'TextRank', 'TfIdf', 'RAKE_filtered', 'TextRank_filtered', 'TfIdf_filtered'], index=['Precision', 'Recall', 'F-measure'])\n",
        "    rezults.append(rez_df)\n"
      ],
      "execution_count": 213,
      "outputs": []
    },
    {
      "cell_type": "code",
      "metadata": {
        "id": "43oaYZK1EmTe"
      },
      "source": [
        "def flatten(t):\n",
        "    return [item for sublist in t for item in sublist]\n",
        "\n",
        "#посчитаем метрики в общем\n",
        "precisions = [count_precision(flatten(kw), flatten(true_keywords)) for kw in [rake_keywords, textrank_keywords, tfidf_keywords, rake_keywords_filtered, textrank_keywords_filtered, tfidf_keywords_filtered]]\n",
        "recalls = [count_recall(flatten(kw), flatten(true_keywords)) for kw in [rake_keywords, textrank_keywords, tfidf_keywords, rake_keywords_filtered, textrank_keywords_filtered, tfidf_keywords_filtered]]\n",
        "f_measures = [count_f_measure(flatten(kw), flatten(true_keywords)) for kw in [rake_keywords, textrank_keywords, tfidf_keywords, rake_keywords_filtered, textrank_keywords_filtered, tfidf_keywords_filtered]]\n",
        "total_rezult = pd.DataFrame([precisions, recalls, f_measures], columns=['RAKE', 'TextRank', 'TfIdf', 'RAKE_filtered', 'TextRank_filtered', 'TfIdf_filtered'], index=['Precision', 'Recall', 'F-measure'])\n"
      ],
      "execution_count": 214,
      "outputs": []
    },
    {
      "cell_type": "markdown",
      "metadata": {
        "id": "UTjfw-35GecT"
      },
      "source": [
        "## Результаты ##"
      ]
    },
    {
      "cell_type": "markdown",
      "metadata": {
        "id": "0pIyb6o0Gy7-"
      },
      "source": [
        "**Текст 1 - футбольная экспертиза**: длина около 400 токенов"
      ]
    },
    {
      "cell_type": "code",
      "metadata": {
        "colab": {
          "base_uri": "https://localhost:8080/",
          "height": 143
        },
        "id": "C_8l7Ms0Gxba",
        "outputId": "ac7ab503-349c-4cb7-af0b-6f1b25d3083f"
      },
      "source": [
        "rezults[0]"
      ],
      "execution_count": 215,
      "outputs": [
        {
          "output_type": "execute_result",
          "data": {
            "text/html": [
              "<div>\n",
              "<style scoped>\n",
              "    .dataframe tbody tr th:only-of-type {\n",
              "        vertical-align: middle;\n",
              "    }\n",
              "\n",
              "    .dataframe tbody tr th {\n",
              "        vertical-align: top;\n",
              "    }\n",
              "\n",
              "    .dataframe thead th {\n",
              "        text-align: right;\n",
              "    }\n",
              "</style>\n",
              "<table border=\"1\" class=\"dataframe\">\n",
              "  <thead>\n",
              "    <tr style=\"text-align: right;\">\n",
              "      <th></th>\n",
              "      <th>RAKE</th>\n",
              "      <th>TextRank</th>\n",
              "      <th>TfIdf</th>\n",
              "      <th>RAKE_filtered</th>\n",
              "      <th>TextRank_filtered</th>\n",
              "      <th>TfIdf_filtered</th>\n",
              "    </tr>\n",
              "  </thead>\n",
              "  <tbody>\n",
              "    <tr>\n",
              "      <th>Precision</th>\n",
              "      <td>0.028986</td>\n",
              "      <td>0.058824</td>\n",
              "      <td>0.100000</td>\n",
              "      <td>0.111111</td>\n",
              "      <td>0.117647</td>\n",
              "      <td>0.192308</td>\n",
              "    </tr>\n",
              "    <tr>\n",
              "      <th>Recall</th>\n",
              "      <td>0.400000</td>\n",
              "      <td>0.400000</td>\n",
              "      <td>1.000000</td>\n",
              "      <td>0.400000</td>\n",
              "      <td>0.400000</td>\n",
              "      <td>1.000000</td>\n",
              "    </tr>\n",
              "    <tr>\n",
              "      <th>F-measure</th>\n",
              "      <td>0.054054</td>\n",
              "      <td>0.102564</td>\n",
              "      <td>0.181818</td>\n",
              "      <td>0.173913</td>\n",
              "      <td>0.181818</td>\n",
              "      <td>0.322581</td>\n",
              "    </tr>\n",
              "  </tbody>\n",
              "</table>\n",
              "</div>"
            ],
            "text/plain": [
              "               RAKE  TextRank  ...  TextRank_filtered  TfIdf_filtered\n",
              "Precision  0.028986  0.058824  ...           0.117647        0.192308\n",
              "Recall     0.400000  0.400000  ...           0.400000        1.000000\n",
              "F-measure  0.054054  0.102564  ...           0.181818        0.322581\n",
              "\n",
              "[3 rows x 6 columns]"
            ]
          },
          "metadata": {},
          "execution_count": 215
        }
      ]
    },
    {
      "cell_type": "markdown",
      "metadata": {
        "id": "ZYYg9LAOH-7i"
      },
      "source": [
        "Относительно хороший реколл, особенноо с использованием tfidf. Пресижн также лучший у tfidf, при этом фильтрация улучшает результаты (особенно для RAKE и TextRank). \n",
        "\n",
        "С этим текстом алгоритмы сработали лучше всего."
      ]
    },
    {
      "cell_type": "markdown",
      "metadata": {
        "id": "no9SUBiWHtbb"
      },
      "source": [
        "**Текст 2 - Статья про тональность**: длина около 1.5 тысяч токенов"
      ]
    },
    {
      "cell_type": "code",
      "metadata": {
        "colab": {
          "base_uri": "https://localhost:8080/",
          "height": 143
        },
        "id": "lmiOfUqk22OA",
        "outputId": "fb3427db-29b9-4eda-e102-316359d79683"
      },
      "source": [
        "rezults[1]"
      ],
      "execution_count": 216,
      "outputs": [
        {
          "output_type": "execute_result",
          "data": {
            "text/html": [
              "<div>\n",
              "<style scoped>\n",
              "    .dataframe tbody tr th:only-of-type {\n",
              "        vertical-align: middle;\n",
              "    }\n",
              "\n",
              "    .dataframe tbody tr th {\n",
              "        vertical-align: top;\n",
              "    }\n",
              "\n",
              "    .dataframe thead th {\n",
              "        text-align: right;\n",
              "    }\n",
              "</style>\n",
              "<table border=\"1\" class=\"dataframe\">\n",
              "  <thead>\n",
              "    <tr style=\"text-align: right;\">\n",
              "      <th></th>\n",
              "      <th>RAKE</th>\n",
              "      <th>TextRank</th>\n",
              "      <th>TfIdf</th>\n",
              "      <th>RAKE_filtered</th>\n",
              "      <th>TextRank_filtered</th>\n",
              "      <th>TfIdf_filtered</th>\n",
              "    </tr>\n",
              "  </thead>\n",
              "  <tbody>\n",
              "    <tr>\n",
              "      <th>Precision</th>\n",
              "      <td>0.021898</td>\n",
              "      <td>0.0</td>\n",
              "      <td>0.060000</td>\n",
              "      <td>0.035088</td>\n",
              "      <td>0.0</td>\n",
              "      <td>0.085714</td>\n",
              "    </tr>\n",
              "    <tr>\n",
              "      <th>Recall</th>\n",
              "      <td>0.500000</td>\n",
              "      <td>0.0</td>\n",
              "      <td>0.500000</td>\n",
              "      <td>0.333333</td>\n",
              "      <td>0.0</td>\n",
              "      <td>0.500000</td>\n",
              "    </tr>\n",
              "    <tr>\n",
              "      <th>F-measure</th>\n",
              "      <td>0.041958</td>\n",
              "      <td>0.0</td>\n",
              "      <td>0.107143</td>\n",
              "      <td>0.063492</td>\n",
              "      <td>0.0</td>\n",
              "      <td>0.146341</td>\n",
              "    </tr>\n",
              "  </tbody>\n",
              "</table>\n",
              "</div>"
            ],
            "text/plain": [
              "               RAKE  TextRank  ...  TextRank_filtered  TfIdf_filtered\n",
              "Precision  0.021898       0.0  ...                0.0        0.085714\n",
              "Recall     0.500000       0.0  ...                0.0        0.500000\n",
              "F-measure  0.041958       0.0  ...                0.0        0.146341\n",
              "\n",
              "[3 rows x 6 columns]"
            ]
          },
          "metadata": {},
          "execution_count": 216
        }
      ]
    },
    {
      "cell_type": "markdown",
      "metadata": {
        "id": "AKitUdAgH2nX"
      },
      "source": [
        "Снова наилучшие результаты получаются с методом tfidf, фильтрация также увеличивает метрики. Единственное, что в данном случае из-за фильтрации понизился реколл для RAKE, это связано с тем, что одно из ключевых слов для данного текста - random forest, морфпарсер определяет его часть речи как UNKN, а такой шаблон я не стала добавлять. Поэтому в фильтрованный RAKE он не вошел, хотя до фильтров алгоритм выделил это ключевое слово.\n",
        "\n",
        "В целом, особо заметно что TextRank в данном случае ничего не нашел. Также и у других методов показатели значительно ниже в сравнении с предыдущим текстом. Возможно, это связано с некоторой сложностью ключевых слов, в данном случае были биграммы и триграммы. "
      ]
    },
    {
      "cell_type": "markdown",
      "metadata": {
        "id": "Ng3F2eqHLO9u"
      },
      "source": [
        "**Текст 3 - Статья про одушевленность и местоимения**: длина около 3 тысяч токенов"
      ]
    },
    {
      "cell_type": "code",
      "metadata": {
        "colab": {
          "base_uri": "https://localhost:8080/",
          "height": 143
        },
        "id": "b0TS3duNH2-P",
        "outputId": "556983c7-d6b1-4220-920a-3cee66027e93"
      },
      "source": [
        "rezults[2]"
      ],
      "execution_count": 217,
      "outputs": [
        {
          "output_type": "execute_result",
          "data": {
            "text/html": [
              "<div>\n",
              "<style scoped>\n",
              "    .dataframe tbody tr th:only-of-type {\n",
              "        vertical-align: middle;\n",
              "    }\n",
              "\n",
              "    .dataframe tbody tr th {\n",
              "        vertical-align: top;\n",
              "    }\n",
              "\n",
              "    .dataframe thead th {\n",
              "        text-align: right;\n",
              "    }\n",
              "</style>\n",
              "<table border=\"1\" class=\"dataframe\">\n",
              "  <thead>\n",
              "    <tr style=\"text-align: right;\">\n",
              "      <th></th>\n",
              "      <th>RAKE</th>\n",
              "      <th>TextRank</th>\n",
              "      <th>TfIdf</th>\n",
              "      <th>RAKE_filtered</th>\n",
              "      <th>TextRank_filtered</th>\n",
              "      <th>TfIdf_filtered</th>\n",
              "    </tr>\n",
              "  </thead>\n",
              "  <tbody>\n",
              "    <tr>\n",
              "      <th>Precision</th>\n",
              "      <td>0.014052</td>\n",
              "      <td>0.006173</td>\n",
              "      <td>0.080000</td>\n",
              "      <td>0.044118</td>\n",
              "      <td>0.018519</td>\n",
              "      <td>0.153846</td>\n",
              "    </tr>\n",
              "    <tr>\n",
              "      <th>Recall</th>\n",
              "      <td>1.000000</td>\n",
              "      <td>0.166667</td>\n",
              "      <td>0.666667</td>\n",
              "      <td>1.000000</td>\n",
              "      <td>0.166667</td>\n",
              "      <td>0.666667</td>\n",
              "    </tr>\n",
              "    <tr>\n",
              "      <th>F-measure</th>\n",
              "      <td>0.027714</td>\n",
              "      <td>0.011905</td>\n",
              "      <td>0.142857</td>\n",
              "      <td>0.084507</td>\n",
              "      <td>0.033333</td>\n",
              "      <td>0.250000</td>\n",
              "    </tr>\n",
              "  </tbody>\n",
              "</table>\n",
              "</div>"
            ],
            "text/plain": [
              "               RAKE  TextRank  ...  TextRank_filtered  TfIdf_filtered\n",
              "Precision  0.014052  0.006173  ...           0.018519        0.153846\n",
              "Recall     1.000000  0.166667  ...           0.166667        0.666667\n",
              "F-measure  0.027714  0.011905  ...           0.033333        0.250000\n",
              "\n",
              "[3 rows x 6 columns]"
            ]
          },
          "metadata": {},
          "execution_count": 217
        }
      ]
    },
    {
      "cell_type": "markdown",
      "metadata": {
        "id": "N4pFrCfiLlJk"
      },
      "source": [
        "В данном случае RAKE выделил все ключевые слова из эталона, однако из-за очень низкого пресижна лучшим методом снова стал tfidf, фильтрация опять же улучшила результат. Самые худшие показатели снова у TextRank. В целом, неплохой результат относительно других текстов"
      ]
    },
    {
      "cell_type": "markdown",
      "metadata": {
        "id": "oqFLNjHiPb17"
      },
      "source": [
        "**Текст 4 - короткая новостная статья**: длина около 70 токенов"
      ]
    },
    {
      "cell_type": "code",
      "metadata": {
        "colab": {
          "base_uri": "https://localhost:8080/",
          "height": 143
        },
        "id": "LS-s3MmLSHx1",
        "outputId": "4117ba08-6ac9-46bb-d87f-f6c3952be3a4"
      },
      "source": [
        "rezults[3]"
      ],
      "execution_count": 218,
      "outputs": [
        {
          "output_type": "execute_result",
          "data": {
            "text/html": [
              "<div>\n",
              "<style scoped>\n",
              "    .dataframe tbody tr th:only-of-type {\n",
              "        vertical-align: middle;\n",
              "    }\n",
              "\n",
              "    .dataframe tbody tr th {\n",
              "        vertical-align: top;\n",
              "    }\n",
              "\n",
              "    .dataframe thead th {\n",
              "        text-align: right;\n",
              "    }\n",
              "</style>\n",
              "<table border=\"1\" class=\"dataframe\">\n",
              "  <thead>\n",
              "    <tr style=\"text-align: right;\">\n",
              "      <th></th>\n",
              "      <th>RAKE</th>\n",
              "      <th>TextRank</th>\n",
              "      <th>TfIdf</th>\n",
              "      <th>RAKE_filtered</th>\n",
              "      <th>TextRank_filtered</th>\n",
              "      <th>TfIdf_filtered</th>\n",
              "    </tr>\n",
              "  </thead>\n",
              "  <tbody>\n",
              "    <tr>\n",
              "      <th>Precision</th>\n",
              "      <td>0.0</td>\n",
              "      <td>0.142857</td>\n",
              "      <td>0.040000</td>\n",
              "      <td>0.0</td>\n",
              "      <td>0.200000</td>\n",
              "      <td>0.090909</td>\n",
              "    </tr>\n",
              "    <tr>\n",
              "      <th>Recall</th>\n",
              "      <td>0.0</td>\n",
              "      <td>0.250000</td>\n",
              "      <td>0.500000</td>\n",
              "      <td>0.0</td>\n",
              "      <td>0.250000</td>\n",
              "      <td>0.500000</td>\n",
              "    </tr>\n",
              "    <tr>\n",
              "      <th>F-measure</th>\n",
              "      <td>0.0</td>\n",
              "      <td>0.181818</td>\n",
              "      <td>0.074074</td>\n",
              "      <td>0.0</td>\n",
              "      <td>0.222222</td>\n",
              "      <td>0.153846</td>\n",
              "    </tr>\n",
              "  </tbody>\n",
              "</table>\n",
              "</div>"
            ],
            "text/plain": [
              "           RAKE  TextRank  ...  TextRank_filtered  TfIdf_filtered\n",
              "Precision   0.0  0.142857  ...           0.200000        0.090909\n",
              "Recall      0.0  0.250000  ...           0.250000        0.500000\n",
              "F-measure   0.0  0.181818  ...           0.222222        0.153846\n",
              "\n",
              "[3 rows x 6 columns]"
            ]
          },
          "metadata": {},
          "execution_count": 218
        }
      ]
    },
    {
      "cell_type": "markdown",
      "metadata": {
        "id": "_XvVdUhfSOFs"
      },
      "source": [
        "В этом же случае лучше всех сработал TextRank с фильтрами, RAKE же вообще не обнаружил верных ключевых слов. Больший рекол вышел у tfidf, однако у для TextRank значительно выше пресижн."
      ]
    },
    {
      "cell_type": "markdown",
      "metadata": {
        "id": "Bwo9K5E5SrVA"
      },
      "source": [
        "**Общие результаты**:"
      ]
    },
    {
      "cell_type": "code",
      "metadata": {
        "colab": {
          "base_uri": "https://localhost:8080/",
          "height": 143
        },
        "id": "ekKt-IZrSqfK",
        "outputId": "e86d30fe-3449-4087-e64b-92c8053b697b"
      },
      "source": [
        "total_rezult"
      ],
      "execution_count": 219,
      "outputs": [
        {
          "output_type": "execute_result",
          "data": {
            "text/html": [
              "<div>\n",
              "<style scoped>\n",
              "    .dataframe tbody tr th:only-of-type {\n",
              "        vertical-align: middle;\n",
              "    }\n",
              "\n",
              "    .dataframe tbody tr th {\n",
              "        vertical-align: top;\n",
              "    }\n",
              "\n",
              "    .dataframe thead th {\n",
              "        text-align: right;\n",
              "    }\n",
              "</style>\n",
              "<table border=\"1\" class=\"dataframe\">\n",
              "  <thead>\n",
              "    <tr style=\"text-align: right;\">\n",
              "      <th></th>\n",
              "      <th>RAKE</th>\n",
              "      <th>TextRank</th>\n",
              "      <th>TfIdf</th>\n",
              "      <th>RAKE_filtered</th>\n",
              "      <th>TextRank_filtered</th>\n",
              "      <th>TfIdf_filtered</th>\n",
              "    </tr>\n",
              "  </thead>\n",
              "  <tbody>\n",
              "    <tr>\n",
              "      <th>Precision</th>\n",
              "      <td>0.017134</td>\n",
              "      <td>0.016667</td>\n",
              "      <td>0.065000</td>\n",
              "      <td>0.046083</td>\n",
              "      <td>0.040323</td>\n",
              "      <td>0.119266</td>\n",
              "    </tr>\n",
              "    <tr>\n",
              "      <th>Recall</th>\n",
              "      <td>0.523810</td>\n",
              "      <td>0.238095</td>\n",
              "      <td>0.619048</td>\n",
              "      <td>0.476190</td>\n",
              "      <td>0.238095</td>\n",
              "      <td>0.619048</td>\n",
              "    </tr>\n",
              "    <tr>\n",
              "      <th>F-measure</th>\n",
              "      <td>0.033183</td>\n",
              "      <td>0.031153</td>\n",
              "      <td>0.117647</td>\n",
              "      <td>0.084034</td>\n",
              "      <td>0.068966</td>\n",
              "      <td>0.200000</td>\n",
              "    </tr>\n",
              "  </tbody>\n",
              "</table>\n",
              "</div>"
            ],
            "text/plain": [
              "               RAKE  TextRank  ...  TextRank_filtered  TfIdf_filtered\n",
              "Precision  0.017134  0.016667  ...           0.040323        0.119266\n",
              "Recall     0.523810  0.238095  ...           0.238095        0.619048\n",
              "F-measure  0.033183  0.031153  ...           0.068966        0.200000\n",
              "\n",
              "[3 rows x 6 columns]"
            ]
          },
          "metadata": {},
          "execution_count": 219
        }
      ]
    },
    {
      "cell_type": "markdown",
      "metadata": {
        "id": "xTsqcUwfSwpq"
      },
      "source": [
        "**В целом, из таких результатов видно, что TextRank хорошо находит ключевые слова на коротких текстах и плохо на длинных (но это может быть просто совпадением), RAKE в целом справляется неплохо, но не отличительно, а самый стабильный и почти всегда лучший метод это TfIdf. Применение фильтров улучшает качество во всех случаях**"
      ]
    },
    {
      "cell_type": "markdown",
      "metadata": {
        "id": "Hv8raTgDTl1G"
      },
      "source": [
        "## Улучшения/изменения ##"
      ]
    },
    {
      "cell_type": "markdown",
      "metadata": {
        "id": "p0TzVwqbTt8E"
      },
      "source": [
        " - Первое, что может (должно) улучшить качество, это установка меньшей длины ключевых слов. Я везде устанавливала (где могла) возможную длину последовательности от 1 до 3, но только для одном тексте в эталон ключевых слов были включены триграммы. Уменьшив длину, мы, вероятно, увеличили бы пресижн для 3 из 4 текстов, так как алгоритмы не стали бы выделять триграммы.\n",
        "\n",
        "  Также во многих случаях некоторые биграммы, которые сами по себе являлись ключевами словами, алгоритмы включали в состав триграмм, что ухудшало качество. Например, rake выделяет 'лига чемпион доказывать', а ключевым является 'лига чемпион'. Однако если выделять только уни- и биграммы, то он может выделить верное 'лига чемпион', то есть правильных ответов будет больше.\n",
        " - Второе - оптимально подобрать количество выделяемых слов для tfidf. Я брала топ50, но это было скорее рандомное решение. Так может увеличиться пресижн\n",
        " - еще одним возможным улучшением может быть особый препроцессинг, а в частности стемминг. Я совсем в этом не уверена, но почему-то, мне кажется, это может помочь увеличить качество. Например, в статье про одушевленность одним из эталонных ключевых слов является 'одушевленность', а многие алгоритмы выделяют 'одушевленный'. При стемминге не было бы таких ошибок (хотя не всегда и ошибок)."
      ]
    },
    {
      "cell_type": "code",
      "metadata": {
        "id": "dqrnfhVCWgUW"
      },
      "source": [
        ""
      ],
      "execution_count": 219,
      "outputs": []
    }
  ]
}